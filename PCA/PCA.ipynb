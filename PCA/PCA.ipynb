{
 "cells": [
  {
   "cell_type": "code",
   "execution_count": 1,
   "id": "af290da2",
   "metadata": {},
   "outputs": [],
   "source": [
    "import numpy as np\n",
    "import matplotlib.pyplot as plt\n",
    "from scipy.io import loadmat\n",
    "from numpy.linalg import svd\n",
    "from pca import *"
   ]
  },
  {
   "cell_type": "code",
   "execution_count": 3,
   "id": "a467a47f",
   "metadata": {},
   "outputs": [],
   "source": [
    "data = loadmat(\"dataset/ex7data1.mat\")\n",
    "X = data['X']"
   ]
  },
  {
   "cell_type": "code",
   "execution_count": 4,
   "id": "2a5eff7e",
   "metadata": {},
   "outputs": [
    {
     "data": {
      "text/plain": [
       "[<matplotlib.lines.Line2D at 0x214903d8bb0>]"
      ]
     },
     "execution_count": 4,
     "metadata": {},
     "output_type": "execute_result"
    },
    {
     "data": {
      "image/png": "[encoded data removed]",
      "text/plain": [
       "<Figure size 432x288 with 1 Axes>"
      ]
     },
     "metadata": {
      "needs_background": "light"
     },
     "output_type": "display_data"
    }
   ],
   "source": [
    "plt.plot(X[:,0], X[:,1], 'bo', marker = 'o')"
   ]
  },
  {
   "cell_type": "code",
   "execution_count": 5,
   "id": "4aabd0f4",
   "metadata": {},
   "outputs": [],
   "source": [
    "pcas = pca()\n",
    "X_norm, mu, std = pcas.featurenormalization(X)\n",
    "U, S, V, sigma = pcas.pca(X_norm)"
   ]
  },
  {
   "cell_type": "code",
   "execution_count": 6,
   "id": "7533d2f5",
   "metadata": {},
   "outputs": [
    {
     "data": {
      "text/plain": [
       "[<matplotlib.lines.Line2D at 0x214904c8dc0>]"
      ]
     },
     "execution_count": 6,
     "metadata": {},
     "output_type": "execute_result"
    },
    {
     "data": {
      "image/png": "[encoded data removed]",
      "text/plain": [
       "<Figure size 432x288 with 1 Axes>"
      ]
     },
     "metadata": {
      "needs_background": "light"
     },
     "output_type": "display_data"
    }
   ],
   "source": [
    "#Visualizing PCA\n",
    "\n",
    "plt.plot(X[:,0], X[:,1], 'bo', marker = 'o')\n",
    "plt.plot([mu[0], (mu+S[0]*U[:,0].T)[0]],[mu[1], (mu+S[0]*U[:,0].T)[1]], color='black', linewidth=3)\n",
    "plt.plot([mu[0], (mu+S[1]*U[:,1].T)[0]],[mu[1], (mu+S[1]*U[:,1].T)[1]], color='black', linewidth=3)"
   ]
  },
  {
   "cell_type": "code",
   "execution_count": 7,
   "id": "a87bfd27",
   "metadata": {},
   "outputs": [
    {
     "data": {
      "text/plain": [
       "array([[-0.70710678],\n",
       "       [-0.70710678]])"
      ]
     },
     "execution_count": 7,
     "metadata": {},
     "output_type": "execute_result"
    }
   ],
   "source": [
    "#Find Principal Component in PCA\n",
    "\n",
    "U[:, :1]"
   ]
  },
  {
   "cell_type": "code",
   "execution_count": 10,
   "id": "5512a232",
   "metadata": {},
   "outputs": [
    {
     "name": "stdout",
     "output_type": "stream",
     "text": [
      "Projection of the first example 1.4963126084578515\n"
     ]
    }
   ],
   "source": [
    "#Finding Projection data\n",
    "\n",
    "K=1\n",
    "Z = pcas.projectdata(X_norm,U,1)\n",
    "print('Projection of the first example', Z[0][0])"
   ]
  },
  {
   "cell_type": "code",
   "execution_count": 11,
   "id": "3e0b8c25",
   "metadata": {},
   "outputs": [
    {
     "name": "stdout",
     "output_type": "stream",
     "text": [
      "Approximation of the first example [-1.05805279 -1.05805279]\n"
     ]
    }
   ],
   "source": [
    "#Finding Recover data\n",
    "\n",
    "X_rec = pcas.recoverdata(Z, U, K)\n",
    "print('Approximation of the first example', X_rec[0,:])"
   ]
  },
  {
   "cell_type": "code",
   "execution_count": 12,
   "id": "7c6f70ac",
   "metadata": {},
   "outputs": [
    {
     "data": {
      "image/png": "[encoded data removed]",
      "text/plain": [
       "<Figure size 432x288 with 1 Axes>"
      ]
     },
     "metadata": {
      "needs_background": "light"
     },
     "output_type": "display_data"
    }
   ],
   "source": [
    "plt.plot(X_norm[:,0], X_norm[:,1], 'bo', marker = 'o', label = 'Original')\n",
    "plt.plot(X_rec[:,0], X_rec[:,1], 'ro', marker = 'o', label='Approximation')\n",
    "plt.title('The Normalized and Projected Data after PCA')\n",
    "plt.legend()\n",
    "plt.show()"
   ]
  }
 ],
 "metadata": {
  "kernelspec": {
   "display_name": "Python 3",
   "language": "python",
   "name": "python3"
  },
  "language_info": {
   "codemirror_mode": {
    "name": "ipython",
    "version": 3
   },
   "file_extension": ".py",
   "mimetype": "text/x-python",
   "name": "python",
   "nbconvert_exporter": "python",
   "pygments_lexer": "ipython3",
   "version": "3.8.8"
  }
 },
 "nbformat": 4,
 "nbformat_minor": 5
}
