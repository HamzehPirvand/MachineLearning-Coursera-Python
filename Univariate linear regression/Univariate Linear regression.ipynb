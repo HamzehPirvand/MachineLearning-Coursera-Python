{
 "cells": [
  {
   "cell_type": "code",
   "execution_count": 8,
   "id": "5891eec0",
   "metadata": {},
   "outputs": [
    {
     "data": {
      "image/png": "[encoded data removed]",
      "text/plain": [
       "<IPython.core.display.Image object>"
      ]
     },
     "execution_count": 8,
     "metadata": {},
     "output_type": "execute_result"
    }
   ],
   "source": [
    "#Hypothesis of Univariate linear regression\n",
    "from IPython.display import Image\n",
    "Image(\"pic/Univariate linear equation.PNG\")"
   ]
  },
  {
   "cell_type": "code",
   "execution_count": 9,
   "id": "74e1fb38",
   "metadata": {},
   "outputs": [
    {
     "data": {
      "image/png": "[encoded data removed]",
      "text/plain": [
       "<IPython.core.display.Image object>"
      ]
     },
     "execution_count": 9,
     "metadata": {},
     "output_type": "execute_result"
    }
   ],
   "source": [
    "#Cost function\n",
    "from IPython.display import Image\n",
    "Image(\"pic/CostFunction.PNG\")"
   ]
  },
  {
   "cell_type": "code",
   "execution_count": 10,
   "id": "89945ad5",
   "metadata": {},
   "outputs": [
    {
     "data": {
      "image/png": "[encoded data removed]",
      "text/plain": [
       "<IPython.core.display.Image object>"
      ]
     },
     "execution_count": 10,
     "metadata": {},
     "output_type": "execute_result"
    }
   ],
   "source": [
    "#Gredient descent\n",
    "from IPython.display import Image\n",
    "Image(\"pic/Gradient Decent.PNG\")"
   ]
  },
  {
   "cell_type": "code",
   "execution_count": 11,
   "id": "09ba7a8c",
   "metadata": {},
   "outputs": [],
   "source": [
    "#Creating one dimensional Array\n",
    "import numpy as np"
   ]
  },
  {
   "cell_type": "code",
   "execution_count": 12,
   "id": "00a3c68b",
   "metadata": {},
   "outputs": [],
   "source": [
    "a= np.array([1,2,3])\n",
    "b = np.array([2,3,4])"
   ]
  },
  {
   "cell_type": "code",
   "execution_count": 13,
   "id": "192f8a2d",
   "metadata": {},
   "outputs": [
    {
     "data": {
      "text/plain": [
       "1"
      ]
     },
     "execution_count": 13,
     "metadata": {},
     "output_type": "execute_result"
    }
   ],
   "source": [
    "a.ndim"
   ]
  },
  {
   "cell_type": "code",
   "execution_count": 14,
   "id": "e01118ff",
   "metadata": {},
   "outputs": [
    {
     "data": {
      "text/plain": [
       "(3,)"
      ]
     },
     "execution_count": 14,
     "metadata": {},
     "output_type": "execute_result"
    }
   ],
   "source": [
    "a.shape"
   ]
  },
  {
   "cell_type": "code",
   "execution_count": 15,
   "id": "3b377b11",
   "metadata": {},
   "outputs": [
    {
     "data": {
      "text/plain": [
       "array([ 2,  6, 12])"
      ]
     },
     "execution_count": 15,
     "metadata": {},
     "output_type": "execute_result"
    }
   ],
   "source": [
    "a*b"
   ]
  },
  {
   "cell_type": "code",
   "execution_count": 16,
   "id": "81988c36",
   "metadata": {},
   "outputs": [
    {
     "data": {
      "text/plain": [
       "20"
      ]
     },
     "execution_count": 16,
     "metadata": {},
     "output_type": "execute_result"
    }
   ],
   "source": [
    "a@b"
   ]
  },
  {
   "cell_type": "code",
   "execution_count": 17,
   "id": "863903cc",
   "metadata": {},
   "outputs": [
    {
     "data": {
      "text/plain": [
       "array([[ 2,  6, 12],\n",
       "       [27,  8,  5]])"
      ]
     },
     "execution_count": 17,
     "metadata": {},
     "output_type": "execute_result"
    }
   ],
   "source": [
    "#Creating 2D Array\n",
    "\n",
    "a = np.array([[1,2,3],[3,4,5]])\n",
    "b = np.array([[2,3,4],[9,2,1]])\n",
    "a*b"
   ]
  },
  {
   "cell_type": "code",
   "execution_count": 18,
   "id": "6ede4dec",
   "metadata": {},
   "outputs": [
    {
     "data": {
      "text/plain": [
       "array([1, 2, 2])"
      ]
     },
     "execution_count": 18,
     "metadata": {},
     "output_type": "execute_result"
    }
   ],
   "source": [
    "k = np.array([1,2,2])\n",
    "k"
   ]
  },
  {
   "cell_type": "code",
   "execution_count": 19,
   "id": "1401fa6e",
   "metadata": {},
   "outputs": [
    {
     "data": {
      "text/plain": [
       "array([[1, 2, 3],\n",
       "       [3, 4, 5]])"
      ]
     },
     "execution_count": 19,
     "metadata": {},
     "output_type": "execute_result"
    }
   ],
   "source": [
    "a"
   ]
  },
  {
   "cell_type": "code",
   "execution_count": 20,
   "id": "3bf9bed5",
   "metadata": {},
   "outputs": [
    {
     "data": {
      "text/plain": [
       "array([11, 21])"
      ]
     },
     "execution_count": 20,
     "metadata": {},
     "output_type": "execute_result"
    }
   ],
   "source": [
    "a@k.T"
   ]
  },
  {
   "cell_type": "code",
   "execution_count": 21,
   "id": "5bc10114",
   "metadata": {},
   "outputs": [
    {
     "data": {
      "text/plain": [
       "array([[1],\n",
       "       [2],\n",
       "       [3]])"
      ]
     },
     "execution_count": 21,
     "metadata": {},
     "output_type": "execute_result"
    }
   ],
   "source": [
    "#Vertical Array\n",
    "\n",
    "f = np.array([[1],[2],[3]])\n",
    "f"
   ]
  },
  {
   "cell_type": "code",
   "execution_count": 22,
   "id": "dd715f1e",
   "metadata": {},
   "outputs": [
    {
     "data": {
      "text/plain": [
       "array([1. , 1.1, 1.2, 1.3, 1.4, 1.5, 1.6, 1.7, 1.8, 1.9])"
      ]
     },
     "execution_count": 22,
     "metadata": {},
     "output_type": "execute_result"
    }
   ],
   "source": [
    "#Repeat 0.1 times from 1 to 2 using arange\n",
    "\n",
    "np.arange(1,2,0.1)"
   ]
  },
  {
   "cell_type": "code",
   "execution_count": 23,
   "id": "febb4cab",
   "metadata": {},
   "outputs": [
    {
     "data": {
      "text/plain": [
       "array([1, 2, 3, 4, 5, 6])"
      ]
     },
     "execution_count": 23,
     "metadata": {},
     "output_type": "execute_result"
    }
   ],
   "source": [
    "np.arange(1,7,1)"
   ]
  },
  {
   "cell_type": "code",
   "execution_count": 24,
   "id": "b8cc9130",
   "metadata": {},
   "outputs": [
    {
     "data": {
      "text/plain": [
       "array([1.        , 1.04166667, 1.08333333, 1.125     , 1.16666667,\n",
       "       1.20833333, 1.25      , 1.29166667, 1.33333333, 1.375     ,\n",
       "       1.41666667, 1.45833333, 1.5       , 1.54166667, 1.58333333,\n",
       "       1.625     , 1.66666667, 1.70833333, 1.75      , 1.79166667,\n",
       "       1.83333333, 1.875     , 1.91666667, 1.95833333, 2.        ])"
      ]
     },
     "execution_count": 24,
     "metadata": {},
     "output_type": "execute_result"
    }
   ],
   "source": [
    "#Repeat 25 times from 1 to 2 using linspace\n",
    "\n",
    "np.linspace(1,2,25)"
   ]
  },
  {
   "cell_type": "code",
   "execution_count": 25,
   "id": "57abafaa",
   "metadata": {},
   "outputs": [
    {
     "data": {
      "text/plain": [
       "array([[1., 1., 1.],\n",
       "       [1., 1., 1.]])"
      ]
     },
     "execution_count": 25,
     "metadata": {},
     "output_type": "execute_result"
    }
   ],
   "source": [
    "#Ones in Numpy\n",
    "\n",
    "np.ones((2,3))"
   ]
  },
  {
   "cell_type": "code",
   "execution_count": 26,
   "id": "d9b42d36",
   "metadata": {},
   "outputs": [
    {
     "data": {
      "text/plain": [
       "array([[0., 0., 0.],\n",
       "       [0., 0., 0.]])"
      ]
     },
     "execution_count": 26,
     "metadata": {},
     "output_type": "execute_result"
    }
   ],
   "source": [
    "#Zeros in Numpy\n",
    "\n",
    "np.zeros((2,3))"
   ]
  },
  {
   "cell_type": "code",
   "execution_count": 27,
   "id": "bb799789",
   "metadata": {},
   "outputs": [
    {
     "data": {
      "text/plain": [
       "array([[-1.18652294, -2.05392107, -1.25844089],\n",
       "       [ 0.30494436, -0.70685971,  0.9482791 ]])"
      ]
     },
     "execution_count": 27,
     "metadata": {},
     "output_type": "execute_result"
    }
   ],
   "source": [
    "#Generate random number in Numpy\n",
    "\n",
    "np.random.randn(2,3)"
   ]
  },
  {
   "cell_type": "code",
   "execution_count": 28,
   "id": "bc8b7324",
   "metadata": {},
   "outputs": [
    {
     "data": {
      "text/plain": [
       "(array([  1.,   0.,   1.,   7.,   6.,   8.,  19.,  24.,  28.,  50.,  65.,\n",
       "        105., 117., 173., 197., 221., 340., 355., 432., 496., 533., 619.,\n",
       "        595., 670., 628., 554., 571., 531., 500., 434., 397., 304., 255.,\n",
       "        178., 170., 109.,  82.,  70.,  55.,  34.,  25.,  15.,  10.,   6.,\n",
       "          4.,   2.,   2.,   0.,   1.,   1.]),\n",
       " array([-28.5744349 , -27.17071886, -25.76700282, -24.36328678,\n",
       "        -22.95957074, -21.5558547 , -20.15213866, -18.74842262,\n",
       "        -17.34470658, -15.94099054, -14.5372745 , -13.13355846,\n",
       "        -11.72984242, -10.32612638,  -8.92241034,  -7.5186943 ,\n",
       "         -6.11497826,  -4.71126222,  -3.30754618,  -1.90383014,\n",
       "         -0.5001141 ,   0.90360194,   2.30731798,   3.71103402,\n",
       "          5.11475006,   6.5184661 ,   7.92218214,   9.32589818,\n",
       "         10.72961422,  12.13333026,  13.5370463 ,  14.94076234,\n",
       "         16.34447838,  17.74819442,  19.15191046,  20.5556265 ,\n",
       "         21.95934254,  23.36305858,  24.76677462,  26.17049066,\n",
       "         27.5742067 ,  28.97792274,  30.38163878,  31.78535482,\n",
       "         33.18907086,  34.5927869 ,  35.99650294,  37.40021898,\n",
       "         38.80393502,  40.20765106,  41.6113671 ]),\n",
       " <BarContainer object of 50 artists>)"
      ]
     },
     "execution_count": 28,
     "metadata": {},
     "output_type": "execute_result"
    },
    {
     "data": {
      "image/png": "[encoded data removed]",
      "text/plain": [
       "<Figure size 432x288 with 1 Axes>"
      ]
     },
     "metadata": {
      "needs_background": "light"
     },
     "output_type": "display_data"
    }
   ],
   "source": [
    "#Generate random number for a Normal distribution in Numpy\n",
    "\n",
    "import matplotlib.pyplot as plt\n",
    "\n",
    "data = 5 +np.square(3)* np.random.randn(10000)\n",
    "plt.hist(data,bins =50)"
   ]
  },
  {
   "cell_type": "code",
   "execution_count": 29,
   "id": "e25f2ee9",
   "metadata": {},
   "outputs": [
    {
     "data": {
      "text/plain": [
       "array([[1, 2, 3],\n",
       "       [5, 6, 7]])"
      ]
     },
     "execution_count": 29,
     "metadata": {},
     "output_type": "execute_result"
    }
   ],
   "source": [
    "#Slicing using Numpy\n",
    "\n",
    "v=  np.array([[1,2,3],[5,6,7]])\n",
    "v"
   ]
  },
  {
   "cell_type": "code",
   "execution_count": 30,
   "id": "99148ce3",
   "metadata": {},
   "outputs": [
    {
     "data": {
      "text/plain": [
       "array([[6, 7]])"
      ]
     },
     "execution_count": 30,
     "metadata": {},
     "output_type": "execute_result"
    }
   ],
   "source": [
    "v[1:,1:]"
   ]
  },
  {
   "cell_type": "code",
   "execution_count": 31,
   "id": "a719defa",
   "metadata": {},
   "outputs": [
    {
     "data": {
      "text/plain": [
       "array([[1, 2, 3],\n",
       "       [4, 5, 6]])"
      ]
     },
     "execution_count": 31,
     "metadata": {},
     "output_type": "execute_result"
    }
   ],
   "source": [
    "#Adding new array in Numpy\n",
    "\n",
    "v[1:,0:] = np.array([4,5,6])\n",
    "v"
   ]
  },
  {
   "cell_type": "code",
   "execution_count": 32,
   "id": "1a6184b9",
   "metadata": {},
   "outputs": [
    {
     "data": {
      "text/plain": [
       "array([1, 2, 3, 4, 5, 6, 1, 2, 3])"
      ]
     },
     "execution_count": 32,
     "metadata": {},
     "output_type": "execute_result"
    }
   ],
   "source": [
    "#Appending array in Numpy\n",
    "\n",
    "v = np.append([v],[[1,2,3]])\n",
    "v"
   ]
  },
  {
   "cell_type": "code",
   "execution_count": 33,
   "id": "361caa0f",
   "metadata": {},
   "outputs": [
    {
     "data": {
      "text/plain": [
       "array([[1, 2, 3, 4],\n",
       "       [5, 6, 7, 8],\n",
       "       [8, 9, 0, 1]])"
      ]
     },
     "execution_count": 33,
     "metadata": {},
     "output_type": "execute_result"
    }
   ],
   "source": [
    "#Appending array vertically\n",
    "\n",
    "v = np.array([[1,2,3,4],[5,6,7,8]])\n",
    "g = np.array([8,9,0,1])\n",
    "\n",
    "v = np.vstack((v,g))\n",
    "v"
   ]
  },
  {
   "cell_type": "code",
   "execution_count": 34,
   "id": "4cd66832",
   "metadata": {},
   "outputs": [
    {
     "data": {
      "text/plain": [
       "array([[1, 2, 3, 4, 8, 9, 0, 1]])"
      ]
     },
     "execution_count": 34,
     "metadata": {},
     "output_type": "execute_result"
    }
   ],
   "source": [
    "#Appending array Horizentally\n",
    "\n",
    "v= np.array([[1,2,3,4]])\n",
    "g= np.array([[8,9,0,1]])\n",
    "\n",
    "v = np.hstack((v,g))\n",
    "v"
   ]
  },
  {
   "cell_type": "code",
   "execution_count": 35,
   "id": "460d988d",
   "metadata": {},
   "outputs": [
    {
     "data": {
      "text/plain": [
       "array([1, 2, 3, 4, 8, 9, 0, 1])"
      ]
     },
     "execution_count": 35,
     "metadata": {},
     "output_type": "execute_result"
    }
   ],
   "source": [
    "#Flattening the array\n",
    "\n",
    "d = v.reshape(-1)\n",
    "d"
   ]
  },
  {
   "cell_type": "code",
   "execution_count": 36,
   "id": "53c27978",
   "metadata": {},
   "outputs": [
    {
     "data": {
      "text/plain": [
       "array([4, 6, 8])"
      ]
     },
     "execution_count": 36,
     "metadata": {},
     "output_type": "execute_result"
    }
   ],
   "source": [
    "#Take sum row wise using axis = 0\n",
    "\n",
    "a = np.array([[1,2,3],[3,4,5]])\n",
    "np.sum(a,axis = 0)"
   ]
  },
  {
   "cell_type": "code",
   "execution_count": 37,
   "id": "5d6085e2",
   "metadata": {},
   "outputs": [
    {
     "data": {
      "text/plain": [
       "array([ 6, 12])"
      ]
     },
     "execution_count": 37,
     "metadata": {},
     "output_type": "execute_result"
    }
   ],
   "source": [
    "#Take sum column wise using axis = 1\n",
    "\n",
    "a = np.array([[1,2,3],[3,4,5]])\n",
    "np.sum(a,axis = 1)"
   ]
  },
  {
   "cell_type": "code",
   "execution_count": 38,
   "id": "184b5b13",
   "metadata": {},
   "outputs": [],
   "source": [
    "import pandas as pd\n",
    "import numpy as np\n",
    "import matplotlib.pyplot as plt\n",
    "np.set_printoptions(suppress=True)"
   ]
  },
  {
   "cell_type": "code",
   "execution_count": 40,
   "id": "15855aae",
   "metadata": {},
   "outputs": [
    {
     "data": {
      "image/png": "[encoded data removed]",
      "text/plain": [
       "<IPython.core.display.Image object>"
      ]
     },
     "execution_count": 40,
     "metadata": {},
     "output_type": "execute_result"
    }
   ],
   "source": [
    "#Hypothesis of Univariate linear regression\n",
    "\n",
    "from IPython.display import Image\n",
    "Image(\"pic/Univariate linear equation.PNG\")"
   ]
  },
  {
   "cell_type": "code",
   "execution_count": 41,
   "id": "68c07d9c",
   "metadata": {},
   "outputs": [],
   "source": [
    "ex1data1 = pd.read_csv('dataset/ex1data1.txt',header = None)"
   ]
  },
  {
   "cell_type": "code",
   "execution_count": 42,
   "id": "5e253a94",
   "metadata": {},
   "outputs": [
    {
     "data": {
      "text/html": [
       "<div>\n",
       "<style scoped>\n",
       "    .dataframe tbody tr th:only-of-type {\n",
       "        vertical-align: middle;\n",
       "    }\n",
       "\n",
       "    .dataframe tbody tr th {\n",
       "        vertical-align: top;\n",
       "    }\n",
       "\n",
       "    .dataframe thead th {\n",
       "        text-align: right;\n",
       "    }\n",
       "</style>\n",
       "<table border=\"1\" class=\"dataframe\">\n",
       "  <thead>\n",
       "    <tr style=\"text-align: right;\">\n",
       "      <th></th>\n",
       "      <th>0</th>\n",
       "      <th>1</th>\n",
       "    </tr>\n",
       "  </thead>\n",
       "  <tbody>\n",
       "    <tr>\n",
       "      <th>0</th>\n",
       "      <td>6.1101</td>\n",
       "      <td>17.5920</td>\n",
       "    </tr>\n",
       "    <tr>\n",
       "      <th>1</th>\n",
       "      <td>5.5277</td>\n",
       "      <td>9.1302</td>\n",
       "    </tr>\n",
       "    <tr>\n",
       "      <th>2</th>\n",
       "      <td>8.5186</td>\n",
       "      <td>13.6620</td>\n",
       "    </tr>\n",
       "    <tr>\n",
       "      <th>3</th>\n",
       "      <td>7.0032</td>\n",
       "      <td>11.8540</td>\n",
       "    </tr>\n",
       "    <tr>\n",
       "      <th>4</th>\n",
       "      <td>5.8598</td>\n",
       "      <td>6.8233</td>\n",
       "    </tr>\n",
       "  </tbody>\n",
       "</table>\n",
       "</div>"
      ],
      "text/plain": [
       "        0        1\n",
       "0  6.1101  17.5920\n",
       "1  5.5277   9.1302\n",
       "2  8.5186  13.6620\n",
       "3  7.0032  11.8540\n",
       "4  5.8598   6.8233"
      ]
     },
     "execution_count": 42,
     "metadata": {},
     "output_type": "execute_result"
    }
   ],
   "source": [
    "ex1data1.head()"
   ]
  },
  {
   "cell_type": "code",
   "execution_count": 43,
   "id": "8b220a66",
   "metadata": {},
   "outputs": [],
   "source": [
    "ex1data1.columns = ['X','y']"
   ]
  },
  {
   "cell_type": "code",
   "execution_count": 44,
   "id": "a11927c7",
   "metadata": {},
   "outputs": [],
   "source": [
    "ex1data1.head()\n",
    "\n",
    "X= ex1data1['X'].values\n",
    "y = ex1data1['y'].values"
   ]
  },
  {
   "cell_type": "code",
   "execution_count": 45,
   "id": "f289765e",
   "metadata": {},
   "outputs": [
    {
     "data": {
      "text/plain": [
       "array([1., 1., 1., 1., 1., 1., 1., 1., 1., 1., 1., 1., 1., 1., 1., 1., 1.,\n",
       "       1., 1., 1., 1., 1., 1., 1., 1., 1., 1., 1., 1., 1., 1., 1., 1., 1.,\n",
       "       1., 1., 1., 1., 1., 1., 1., 1., 1., 1., 1., 1., 1., 1., 1., 1., 1.,\n",
       "       1., 1., 1., 1., 1., 1., 1., 1., 1., 1., 1., 1., 1., 1., 1., 1., 1.,\n",
       "       1., 1., 1., 1., 1., 1., 1., 1., 1., 1., 1., 1., 1., 1., 1., 1., 1.,\n",
       "       1., 1., 1., 1., 1., 1., 1., 1., 1., 1., 1., 1.])"
      ]
     },
     "execution_count": 45,
     "metadata": {},
     "output_type": "execute_result"
    }
   ],
   "source": [
    "X0 = np.ones((len(ex1data1)))\n",
    "X0"
   ]
  },
  {
   "cell_type": "code",
   "execution_count": 46,
   "id": "cec287f4",
   "metadata": {},
   "outputs": [
    {
     "data": {
      "text/plain": [
       "array([0., 0.])"
      ]
     },
     "execution_count": 46,
     "metadata": {},
     "output_type": "execute_result"
    }
   ],
   "source": [
    "theta = np.zeros((2))\n",
    "theta"
   ]
  },
  {
   "cell_type": "code",
   "execution_count": 47,
   "id": "8b20b91d",
   "metadata": {},
   "outputs": [
    {
     "data": {
      "text/plain": [
       "array([[ 1.    ,  1.    ,  1.    ,  1.    ,  1.    ,  1.    ,  1.    ,\n",
       "         1.    ,  1.    ,  1.    ,  1.    ,  1.    ,  1.    ,  1.    ,\n",
       "         1.    ,  1.    ,  1.    ,  1.    ,  1.    ,  1.    ,  1.    ,\n",
       "         1.    ,  1.    ,  1.    ,  1.    ,  1.    ,  1.    ,  1.    ,\n",
       "         1.    ,  1.    ,  1.    ,  1.    ,  1.    ,  1.    ,  1.    ,\n",
       "         1.    ,  1.    ,  1.    ,  1.    ,  1.    ,  1.    ,  1.    ,\n",
       "         1.    ,  1.    ,  1.    ,  1.    ,  1.    ,  1.    ,  1.    ,\n",
       "         1.    ,  1.    ,  1.    ,  1.    ,  1.    ,  1.    ,  1.    ,\n",
       "         1.    ,  1.    ,  1.    ,  1.    ,  1.    ,  1.    ,  1.    ,\n",
       "         1.    ,  1.    ,  1.    ,  1.    ,  1.    ,  1.    ,  1.    ,\n",
       "         1.    ,  1.    ,  1.    ,  1.    ,  1.    ,  1.    ,  1.    ,\n",
       "         1.    ,  1.    ,  1.    ,  1.    ,  1.    ,  1.    ,  1.    ,\n",
       "         1.    ,  1.    ,  1.    ,  1.    ,  1.    ,  1.    ,  1.    ,\n",
       "         1.    ,  1.    ,  1.    ,  1.    ,  1.    ,  1.    ],\n",
       "       [ 6.1101,  5.5277,  8.5186,  7.0032,  5.8598,  8.3829,  7.4764,\n",
       "         8.5781,  6.4862,  5.0546,  5.7107, 14.164 ,  5.734 ,  8.4084,\n",
       "         5.6407,  5.3794,  6.3654,  5.1301,  6.4296,  7.0708,  6.1891,\n",
       "        20.27  ,  5.4901,  6.3261,  5.5649, 18.945 , 12.828 , 10.957 ,\n",
       "        13.176 , 22.203 ,  5.2524,  6.5894,  9.2482,  5.8918,  8.2111,\n",
       "         7.9334,  8.0959,  5.6063, 12.836 ,  6.3534,  5.4069,  6.8825,\n",
       "        11.708 ,  5.7737,  7.8247,  7.0931,  5.0702,  5.8014, 11.7   ,\n",
       "         5.5416,  7.5402,  5.3077,  7.4239,  7.6031,  6.3328,  6.3589,\n",
       "         6.2742,  5.6397,  9.3102,  9.4536,  8.8254,  5.1793, 21.279 ,\n",
       "        14.908 , 18.959 ,  7.2182,  8.2951, 10.236 ,  5.4994, 20.341 ,\n",
       "        10.136 ,  7.3345,  6.0062,  7.2259,  5.0269,  6.5479,  7.5386,\n",
       "         5.0365, 10.274 ,  5.1077,  5.7292,  5.1884,  6.3557,  9.7687,\n",
       "         6.5159,  8.5172,  9.1802,  6.002 ,  5.5204,  5.0594,  5.7077,\n",
       "         7.6366,  5.8707,  5.3054,  8.2934, 13.394 ,  5.4369]])"
      ]
     },
     "execution_count": 47,
     "metadata": {},
     "output_type": "execute_result"
    }
   ],
   "source": [
    "X = np.array([X0,X])\n",
    "X"
   ]
  },
  {
   "cell_type": "code",
   "execution_count": 48,
   "id": "97b847eb",
   "metadata": {},
   "outputs": [],
   "source": [
    "def hypothesis(X,theta):\n",
    "    htheta = np.dot(theta,X)\n",
    "    return htheta"
   ]
  },
  {
   "cell_type": "code",
   "execution_count": 49,
   "id": "0a27ee04",
   "metadata": {},
   "outputs": [],
   "source": [
    "htheta = hypothesis(X,theta)\n",
    "theta = np.array([1,2])"
   ]
  },
  {
   "cell_type": "code",
   "execution_count": 50,
   "id": "d2e4a689",
   "metadata": {},
   "outputs": [],
   "source": [
    "htheta = hypothesis(X,theta)"
   ]
  },
  {
   "cell_type": "code",
   "execution_count": 51,
   "id": "e09ef4b3",
   "metadata": {},
   "outputs": [
    {
     "data": {
      "text/plain": [
       "array([13.2202, 12.0554, 18.0372, 15.0064, 12.7196, 17.7658, 15.9528,\n",
       "       18.1562, 13.9724, 11.1092, 12.4214, 29.328 , 12.468 , 17.8168,\n",
       "       12.2814, 11.7588, 13.7308, 11.2602, 13.8592, 15.1416, 13.3782,\n",
       "       41.54  , 11.9802, 13.6522, 12.1298, 38.89  , 26.656 , 22.914 ,\n",
       "       27.352 , 45.406 , 11.5048, 14.1788, 19.4964, 12.7836, 17.4222,\n",
       "       16.8668, 17.1918, 12.2126, 26.672 , 13.7068, 11.8138, 14.765 ,\n",
       "       24.416 , 12.5474, 16.6494, 15.1862, 11.1404, 12.6028, 24.4   ,\n",
       "       12.0832, 16.0804, 11.6154, 15.8478, 16.2062, 13.6656, 13.7178,\n",
       "       13.5484, 12.2794, 19.6204, 19.9072, 18.6508, 11.3586, 43.558 ,\n",
       "       30.816 , 38.918 , 15.4364, 17.5902, 21.472 , 11.9988, 41.682 ,\n",
       "       21.272 , 15.669 , 13.0124, 15.4518, 11.0538, 14.0958, 16.0772,\n",
       "       11.073 , 21.548 , 11.2154, 12.4584, 11.3768, 13.7114, 20.5374,\n",
       "       14.0318, 18.0344, 19.3604, 13.004 , 12.0408, 11.1188, 12.4154,\n",
       "       16.2732, 12.7414, 11.6108, 17.5868, 27.788 , 11.8738])"
      ]
     },
     "execution_count": 51,
     "metadata": {},
     "output_type": "execute_result"
    }
   ],
   "source": [
    "htheta"
   ]
  },
  {
   "cell_type": "code",
   "execution_count": 52,
   "id": "7b17c948",
   "metadata": {},
   "outputs": [
    {
     "data": {
      "image/png": "[encoded data removed]",
      "text/plain": [
       "<IPython.core.display.Image object>"
      ]
     },
     "execution_count": 52,
     "metadata": {},
     "output_type": "execute_result"
    }
   ],
   "source": [
    "from IPython.display import Image\n",
    "Image(\"pic/CostFunction.PNG\")"
   ]
  },
  {
   "cell_type": "code",
   "execution_count": 53,
   "id": "3754646e",
   "metadata": {},
   "outputs": [],
   "source": [
    "def computecost(X,y,theta):\n",
    "    m = len(y)\n",
    "    htheta = hypothesis(X,theta)\n",
    "    jtheta = (htheta-y)**2\n",
    "    jthetasum = jtheta.sum()/(2*m)\n",
    "    return jthetasum"
   ]
  },
  {
   "cell_type": "code",
   "execution_count": 54,
   "id": "d8ba3a44",
   "metadata": {},
   "outputs": [],
   "source": [
    "theta = np.array([-1,2])"
   ]
  },
  {
   "cell_type": "code",
   "execution_count": 55,
   "id": "b5ea2118",
   "metadata": {},
   "outputs": [
    {
     "data": {
      "text/plain": [
       "54.24245508201238"
      ]
     },
     "execution_count": 55,
     "metadata": {},
     "output_type": "execute_result"
    }
   ],
   "source": [
    "jtheta = computecost(X,y,theta)\n",
    "jtheta"
   ]
  },
  {
   "cell_type": "code",
   "execution_count": 56,
   "id": "17c222d1",
   "metadata": {},
   "outputs": [
    {
     "data": {
      "image/png": "[encoded data removed]",
      "text/plain": [
       "<IPython.core.display.Image object>"
      ]
     },
     "execution_count": 56,
     "metadata": {},
     "output_type": "execute_result"
    }
   ],
   "source": [
    "from IPython.display import Image\n",
    "Image(\"pic/Gradient Decent.PNG\")"
   ]
  },
  {
   "cell_type": "code",
   "execution_count": 57,
   "id": "ea18e5fc",
   "metadata": {},
   "outputs": [],
   "source": [
    "\n",
    "def gradientdescent(X,y,theta,alpha,num_iters):\n",
    "    m = len(y)\n",
    "    error = []\n",
    "    theta = np.zeros((2))\n",
    "    for i in range(num_iters):\n",
    "        htheta = hypothesis(X,theta)\n",
    "        jtheta = computecost(X,y,theta)\n",
    "        error.append(jtheta)\n",
    "        delta = (np.dot((htheta-y),X.T)/m)*alpha\n",
    "        theta = theta - delta\n",
    "    return theta,error"
   ]
  },
  {
   "cell_type": "code",
   "execution_count": 58,
   "id": "58f55a2e",
   "metadata": {},
   "outputs": [],
   "source": [
    "iteration = 1500\n",
    "alpha = 0.01"
   ]
  },
  {
   "cell_type": "code",
   "execution_count": 59,
   "id": "637be400",
   "metadata": {},
   "outputs": [],
   "source": [
    "theta,error = gradientdescent(X,y,theta,alpha,iteration)"
   ]
  },
  {
   "cell_type": "code",
   "execution_count": 60,
   "id": "9e851456",
   "metadata": {},
   "outputs": [
    {
     "data": {
      "text/plain": [
       "array([-3.63029144,  1.16636235])"
      ]
     },
     "execution_count": 60,
     "metadata": {},
     "output_type": "execute_result"
    }
   ],
   "source": [
    "theta"
   ]
  },
  {
   "cell_type": "code",
   "execution_count": 61,
   "id": "b1fa8ff8",
   "metadata": {},
   "outputs": [
    {
     "data": {
      "text/plain": [
       "[<matplotlib.lines.Line2D at 0x22e7f1116a0>]"
      ]
     },
     "execution_count": 61,
     "metadata": {},
     "output_type": "execute_result"
    },
    {
     "data": {
      "image/png": "[encoded data removed]",
      "text/plain": [
       "<Figure size 432x288 with 1 Axes>"
      ]
     },
     "metadata": {
      "needs_background": "light"
     },
     "output_type": "display_data"
    }
   ],
   "source": [
    "plt.plot(error)"
   ]
  },
  {
   "cell_type": "code",
   "execution_count": 62,
   "id": "521f5610",
   "metadata": {},
   "outputs": [],
   "source": [
    "ypred = hypothesis(X,theta)"
   ]
  },
  {
   "cell_type": "code",
   "execution_count": 63,
   "id": "0aca8d87",
   "metadata": {},
   "outputs": [
    {
     "data": {
      "text/plain": [
       "[<matplotlib.lines.Line2D at 0x22e7f176280>]"
      ]
     },
     "execution_count": 63,
     "metadata": {},
     "output_type": "execute_result"
    },
    {
     "data": {
      "image/png": "[encoded data removed]",
      "text/plain": [
       "<Figure size 432x288 with 1 Axes>"
      ]
     },
     "metadata": {
      "needs_background": "light"
     },
     "output_type": "display_data"
    }
   ],
   "source": [
    "plt.plot(X[1],ypred,markersize = 10,color = 'b',label = 'Predicted')"
   ]
  }
 ],
 "metadata": {
  "kernelspec": {
   "display_name": "Python 3",
   "language": "python",
   "name": "python3"
  },
  "language_info": {
   "codemirror_mode": {
    "name": "ipython",
    "version": 3
   },
   "file_extension": ".py",
   "mimetype": "text/x-python",
   "name": "python",
   "nbconvert_exporter": "python",
   "pygments_lexer": "ipython3",
   "version": "3.8.8"
  }
 },
 "nbformat": 4,
 "nbformat_minor": 5
}
