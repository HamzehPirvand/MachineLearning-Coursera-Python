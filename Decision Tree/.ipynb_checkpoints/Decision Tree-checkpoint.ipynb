{
 "cells": [
  {
   "cell_type": "code",
   "execution_count": 1,
   "id": "1db17f9d",
   "metadata": {},
   "outputs": [],
   "source": [
    "#Machine learning Equations for Decision Trees - Part 19"
   ]
  },
  {
   "cell_type": "code",
   "execution_count": 2,
   "id": "ef25dc7b",
   "metadata": {},
   "outputs": [],
   "source": [
    "import pandas as pd\n",
    "import numpy as np\n",
    "from sklearn.datasets import load_iris\n",
    "import random\n",
    "import seaborn as sns\n",
    "import matplotlib.pyplot as plt"
   ]
  },
  {
   "cell_type": "code",
   "execution_count": 3,
   "id": "95d885a4",
   "metadata": {},
   "outputs": [],
   "source": [
    "iris = load_iris()"
   ]
  },
  {
   "cell_type": "code",
   "execution_count": 4,
   "id": "d719739b",
   "metadata": {},
   "outputs": [],
   "source": [
    "X = iris.data\n",
    "y = iris.target"
   ]
  },
  {
   "cell_type": "code",
   "execution_count": 5,
   "id": "e81409c1",
   "metadata": {},
   "outputs": [],
   "source": [
    "df = pd.DataFrame(X, columns = ['sepal_length','sepal_width','petal_length','petal_width'])\n",
    "df['label'] = y"
   ]
  },
  {
   "cell_type": "code",
   "execution_count": 6,
   "id": "adeb9195",
   "metadata": {},
   "outputs": [],
   "source": [
    "data = df.values"
   ]
  },
  {
   "cell_type": "code",
   "execution_count": 7,
   "id": "1469b75d",
   "metadata": {},
   "outputs": [
    {
     "data": {
      "text/html": [
       "<div>\n",
       "<style scoped>\n",
       "    .dataframe tbody tr th:only-of-type {\n",
       "        vertical-align: middle;\n",
       "    }\n",
       "\n",
       "    .dataframe tbody tr th {\n",
       "        vertical-align: top;\n",
       "    }\n",
       "\n",
       "    .dataframe thead th {\n",
       "        text-align: right;\n",
       "    }\n",
       "</style>\n",
       "<table border=\"1\" class=\"dataframe\">\n",
       "  <thead>\n",
       "    <tr style=\"text-align: right;\">\n",
       "      <th></th>\n",
       "      <th>sepal_length</th>\n",
       "      <th>sepal_width</th>\n",
       "      <th>petal_length</th>\n",
       "      <th>petal_width</th>\n",
       "      <th>label</th>\n",
       "    </tr>\n",
       "  </thead>\n",
       "  <tbody>\n",
       "    <tr>\n",
       "      <th>0</th>\n",
       "      <td>5.1</td>\n",
       "      <td>3.5</td>\n",
       "      <td>1.4</td>\n",
       "      <td>0.2</td>\n",
       "      <td>0</td>\n",
       "    </tr>\n",
       "    <tr>\n",
       "      <th>1</th>\n",
       "      <td>4.9</td>\n",
       "      <td>3.0</td>\n",
       "      <td>1.4</td>\n",
       "      <td>0.2</td>\n",
       "      <td>0</td>\n",
       "    </tr>\n",
       "    <tr>\n",
       "      <th>2</th>\n",
       "      <td>4.7</td>\n",
       "      <td>3.2</td>\n",
       "      <td>1.3</td>\n",
       "      <td>0.2</td>\n",
       "      <td>0</td>\n",
       "    </tr>\n",
       "    <tr>\n",
       "      <th>3</th>\n",
       "      <td>4.6</td>\n",
       "      <td>3.1</td>\n",
       "      <td>1.5</td>\n",
       "      <td>0.2</td>\n",
       "      <td>0</td>\n",
       "    </tr>\n",
       "    <tr>\n",
       "      <th>4</th>\n",
       "      <td>5.0</td>\n",
       "      <td>3.6</td>\n",
       "      <td>1.4</td>\n",
       "      <td>0.2</td>\n",
       "      <td>0</td>\n",
       "    </tr>\n",
       "  </tbody>\n",
       "</table>\n",
       "</div>"
      ],
      "text/plain": [
       "   sepal_length  sepal_width  petal_length  petal_width  label\n",
       "0           5.1          3.5           1.4          0.2      0\n",
       "1           4.9          3.0           1.4          0.2      0\n",
       "2           4.7          3.2           1.3          0.2      0\n",
       "3           4.6          3.1           1.5          0.2      0\n",
       "4           5.0          3.6           1.4          0.2      0"
      ]
     },
     "execution_count": 7,
     "metadata": {},
     "output_type": "execute_result"
    }
   ],
   "source": [
    "df.head()"
   ]
  },
  {
   "cell_type": "code",
   "execution_count": 8,
   "id": "bda69afa",
   "metadata": {},
   "outputs": [
    {
     "data": {
      "text/plain": [
       "<matplotlib.collections.LineCollection at 0x1c88a79a100>"
      ]
     },
     "execution_count": 8,
     "metadata": {},
     "output_type": "execute_result"
    },
    {
     "data": {
      "image/png": "[encoded data removed]",
      "text/plain": [
       "<Figure size 402.375x360 with 1 Axes>"
      ]
     },
     "metadata": {
      "needs_background": "light"
     },
     "output_type": "display_data"
    }
   ],
   "source": [
    "sns.lmplot(data= df, x= 'petal_width', y='petal_length', hue= 'label', fit_reg = False)\n",
    "plt.vlines(x=0.8, ymin = 1, ymax = 7)"
   ]
  },
  {
   "cell_type": "code",
   "execution_count": 9,
   "id": "e5aa0014",
   "metadata": {},
   "outputs": [],
   "source": [
    "def split_data(data, split_column, split_value):\n",
    "    split_columns = data[:, split_column]\n",
    "    data_below = data[split_columns<=split_value]\n",
    "    data_above = data[split_columns>split_value]\n",
    "    \n",
    "    return data_below, data_above"
   ]
  },
  {
   "cell_type": "code",
   "execution_count": 10,
   "id": "3d2b4477",
   "metadata": {},
   "outputs": [],
   "source": [
    "data_below, data_above = split_data(data, 3, 0.8)"
   ]
  },
  {
   "cell_type": "code",
   "execution_count": 11,
   "id": "f0708334",
   "metadata": {},
   "outputs": [
    {
     "data": {
      "text/plain": [
       "array([[5.1, 3.5, 1.4, 0.2, 0. ],\n",
       "       [4.9, 3. , 1.4, 0.2, 0. ],\n",
       "       [4.7, 3.2, 1.3, 0.2, 0. ],\n",
       "       [4.6, 3.1, 1.5, 0.2, 0. ],\n",
       "       [5. , 3.6, 1.4, 0.2, 0. ],\n",
       "       [5.4, 3.9, 1.7, 0.4, 0. ],\n",
       "       [4.6, 3.4, 1.4, 0.3, 0. ],\n",
       "       [5. , 3.4, 1.5, 0.2, 0. ],\n",
       "       [4.4, 2.9, 1.4, 0.2, 0. ],\n",
       "       [4.9, 3.1, 1.5, 0.1, 0. ],\n",
       "       [5.4, 3.7, 1.5, 0.2, 0. ],\n",
       "       [4.8, 3.4, 1.6, 0.2, 0. ],\n",
       "       [4.8, 3. , 1.4, 0.1, 0. ],\n",
       "       [4.3, 3. , 1.1, 0.1, 0. ],\n",
       "       [5.8, 4. , 1.2, 0.2, 0. ],\n",
       "       [5.7, 4.4, 1.5, 0.4, 0. ],\n",
       "       [5.4, 3.9, 1.3, 0.4, 0. ],\n",
       "       [5.1, 3.5, 1.4, 0.3, 0. ],\n",
       "       [5.7, 3.8, 1.7, 0.3, 0. ],\n",
       "       [5.1, 3.8, 1.5, 0.3, 0. ],\n",
       "       [5.4, 3.4, 1.7, 0.2, 0. ],\n",
       "       [5.1, 3.7, 1.5, 0.4, 0. ],\n",
       "       [4.6, 3.6, 1. , 0.2, 0. ],\n",
       "       [5.1, 3.3, 1.7, 0.5, 0. ],\n",
       "       [4.8, 3.4, 1.9, 0.2, 0. ],\n",
       "       [5. , 3. , 1.6, 0.2, 0. ],\n",
       "       [5. , 3.4, 1.6, 0.4, 0. ],\n",
       "       [5.2, 3.5, 1.5, 0.2, 0. ],\n",
       "       [5.2, 3.4, 1.4, 0.2, 0. ],\n",
       "       [4.7, 3.2, 1.6, 0.2, 0. ],\n",
       "       [4.8, 3.1, 1.6, 0.2, 0. ],\n",
       "       [5.4, 3.4, 1.5, 0.4, 0. ],\n",
       "       [5.2, 4.1, 1.5, 0.1, 0. ],\n",
       "       [5.5, 4.2, 1.4, 0.2, 0. ],\n",
       "       [4.9, 3.1, 1.5, 0.2, 0. ],\n",
       "       [5. , 3.2, 1.2, 0.2, 0. ],\n",
       "       [5.5, 3.5, 1.3, 0.2, 0. ],\n",
       "       [4.9, 3.6, 1.4, 0.1, 0. ],\n",
       "       [4.4, 3. , 1.3, 0.2, 0. ],\n",
       "       [5.1, 3.4, 1.5, 0.2, 0. ],\n",
       "       [5. , 3.5, 1.3, 0.3, 0. ],\n",
       "       [4.5, 2.3, 1.3, 0.3, 0. ],\n",
       "       [4.4, 3.2, 1.3, 0.2, 0. ],\n",
       "       [5. , 3.5, 1.6, 0.6, 0. ],\n",
       "       [5.1, 3.8, 1.9, 0.4, 0. ],\n",
       "       [4.8, 3. , 1.4, 0.3, 0. ],\n",
       "       [5.1, 3.8, 1.6, 0.2, 0. ],\n",
       "       [4.6, 3.2, 1.4, 0.2, 0. ],\n",
       "       [5.3, 3.7, 1.5, 0.2, 0. ],\n",
       "       [5. , 3.3, 1.4, 0.2, 0. ]])"
      ]
     },
     "execution_count": 11,
     "metadata": {},
     "output_type": "execute_result"
    }
   ],
   "source": [
    "data_below"
   ]
  },
  {
   "cell_type": "code",
   "execution_count": 12,
   "id": "2f10c4d5",
   "metadata": {},
   "outputs": [],
   "source": [
    "def calculate_entropy(data):\n",
    "    label_columns = data[:,-1]\n",
    "    counts = np.unique(label_columns, return_counts = True)[1]\n",
    "    probability = counts/counts.sum()\n",
    "    entropy = sum(probability* -np.log2(probability))\n",
    "    return probability, entropy"
   ]
  },
  {
   "cell_type": "code",
   "execution_count": 17,
   "id": "c207e16a",
   "metadata": {},
   "outputs": [],
   "source": [
    "entropy, probability = calculate_entropy(data_below)"
   ]
  },
  {
   "cell_type": "code",
   "execution_count": 18,
   "id": "4041fb09",
   "metadata": {},
   "outputs": [
    {
     "data": {
      "text/plain": [
       "array([1.])"
      ]
     },
     "execution_count": 18,
     "metadata": {},
     "output_type": "execute_result"
    }
   ],
   "source": [
    "entropy"
   ]
  },
  {
   "cell_type": "code",
   "execution_count": 19,
   "id": "915386f6",
   "metadata": {},
   "outputs": [
    {
     "data": {
      "text/plain": [
       "0.0"
      ]
     },
     "execution_count": 19,
     "metadata": {},
     "output_type": "execute_result"
    }
   ],
   "source": [
    "probability"
   ]
  },
  {
   "cell_type": "code",
   "execution_count": 20,
   "id": "4931f2c8",
   "metadata": {},
   "outputs": [],
   "source": [
    "entropy, probability = calculate_entropy(data_above)"
   ]
  },
  {
   "cell_type": "code",
   "execution_count": 21,
   "id": "b3eade6a",
   "metadata": {},
   "outputs": [
    {
     "data": {
      "text/plain": [
       "array([0.5, 0.5])"
      ]
     },
     "execution_count": 21,
     "metadata": {},
     "output_type": "execute_result"
    }
   ],
   "source": [
    "entropy"
   ]
  },
  {
   "cell_type": "code",
   "execution_count": 22,
   "id": "6c6fe4b5",
   "metadata": {},
   "outputs": [
    {
     "data": {
      "text/plain": [
       "1.0"
      ]
     },
     "execution_count": 22,
     "metadata": {},
     "output_type": "execute_result"
    }
   ],
   "source": [
    "probability"
   ]
  },
  {
   "cell_type": "code",
   "execution_count": 23,
   "id": "4cedc546",
   "metadata": {},
   "outputs": [],
   "source": [
    "def calculate_giniindex(data):\n",
    "    label_columns = data[:, 1]\n",
    "    counts = np.unique(label_columns, return_counts = True)[1]\n",
    "    probability = counts/counts.sum()\n",
    "    GINIIndex = 1 - np.sum(probability**2, axis=0)\n",
    "    return GINIIndex, probability"
   ]
  },
  {
   "cell_type": "code",
   "execution_count": 24,
   "id": "977144e8",
   "metadata": {},
   "outputs": [],
   "source": [
    "GINIIndex, probability = calculate_giniindex(data_below)"
   ]
  },
  {
   "cell_type": "code",
   "execution_count": 25,
   "id": "52d0ed2a",
   "metadata": {},
   "outputs": [
    {
     "data": {
      "text/plain": [
       "0.9032"
      ]
     },
     "execution_count": 25,
     "metadata": {},
     "output_type": "execute_result"
    }
   ],
   "source": [
    "GINIIndex"
   ]
  },
  {
   "cell_type": "code",
   "execution_count": 26,
   "id": "305876a8",
   "metadata": {},
   "outputs": [
    {
     "data": {
      "text/plain": [
       "array([0.02, 0.02, 0.12, 0.08, 0.1 , 0.04, 0.18, 0.12, 0.06, 0.06, 0.08,\n",
       "       0.04, 0.02, 0.02, 0.02, 0.02])"
      ]
     },
     "execution_count": 26,
     "metadata": {},
     "output_type": "execute_result"
    }
   ],
   "source": [
    "probability"
   ]
  },
  {
   "cell_type": "code",
   "execution_count": 27,
   "id": "e927b6e0",
   "metadata": {},
   "outputs": [],
   "source": [
    "GINIIndex, probability = calculate_giniindex(data_above)"
   ]
  },
  {
   "cell_type": "code",
   "execution_count": 28,
   "id": "66d76681",
   "metadata": {},
   "outputs": [
    {
     "data": {
      "text/plain": [
       "0.8982"
      ]
     },
     "execution_count": 28,
     "metadata": {},
     "output_type": "execute_result"
    }
   ],
   "source": [
    "GINIIndex"
   ]
  },
  {
   "cell_type": "code",
   "execution_count": 29,
   "id": "8e617de5",
   "metadata": {},
   "outputs": [
    {
     "data": {
      "text/plain": [
       "array([0.01, 0.03, 0.03, 0.03, 0.08, 0.05, 0.09, 0.14, 0.09, 0.2 , 0.07,\n",
       "       0.08, 0.04, 0.03, 0.01, 0.02])"
      ]
     },
     "execution_count": 29,
     "metadata": {},
     "output_type": "execute_result"
    }
   ],
   "source": [
    "probability"
   ]
  },
  {
   "cell_type": "code",
   "execution_count": 39,
   "id": "7f04eef9",
   "metadata": {},
   "outputs": [],
   "source": [
    "Proir_Entropy = lambda x,y: -x/(x+y)*np.log2(x/(x+y)) - y/(x+y)*np.log2(y/(x+y))"
   ]
  },
  {
   "cell_type": "code",
   "execution_count": 40,
   "id": "c4d8f13a",
   "metadata": {},
   "outputs": [
    {
     "data": {
      "text/plain": [
       "0.9709505944546686"
      ]
     },
     "execution_count": 40,
     "metadata": {},
     "output_type": "execute_result"
    }
   ],
   "source": [
    "Proir_Entropy(2, 3)"
   ]
  },
  {
   "cell_type": "code",
   "execution_count": 41,
   "id": "665fb20b",
   "metadata": {},
   "outputs": [],
   "source": [
    "Prior_GINIindex = lambda x, y: 1- ((x/(x+y))**2+(y/(x+y))**2)"
   ]
  },
  {
   "cell_type": "code",
   "execution_count": 42,
   "id": "aec08954",
   "metadata": {},
   "outputs": [
    {
     "data": {
      "text/plain": [
       "0.48"
      ]
     },
     "execution_count": 42,
     "metadata": {},
     "output_type": "execute_result"
    }
   ],
   "source": [
    "Prior_GINIindex(2, 3)"
   ]
  },
  {
   "cell_type": "code",
   "execution_count": 43,
   "id": "4dec92e4",
   "metadata": {},
   "outputs": [],
   "source": [
    "#Entropy for Cough\n",
    "\n",
    "Result = 2/5*Proir_Entropy(1,1)+3/5*Proir_Entropy(2, 1) # Cough"
   ]
  },
  {
   "cell_type": "code",
   "execution_count": 44,
   "id": "13076b0f",
   "metadata": {},
   "outputs": [],
   "source": [
    "Information_Gain = Proir_Entropy(2, 3)-Result # Cough"
   ]
  },
  {
   "cell_type": "code",
   "execution_count": 45,
   "id": "880240ab",
   "metadata": {},
   "outputs": [
    {
     "data": {
      "text/plain": [
       "0.01997309402197489"
      ]
     },
     "execution_count": 45,
     "metadata": {},
     "output_type": "execute_result"
    }
   ],
   "source": [
    "Information_Gain # Cough"
   ]
  },
  {
   "cell_type": "code",
   "execution_count": 46,
   "id": "0f0badad",
   "metadata": {},
   "outputs": [],
   "source": [
    "#Gini Index for Cough\n",
    "\n",
    "Result = 2/5*Prior_GINIindex(1,1)+3/5*Prior_GINIindex(2,1) # Cough"
   ]
  },
  {
   "cell_type": "code",
   "execution_count": 47,
   "id": "0cf6badc",
   "metadata": {},
   "outputs": [],
   "source": [
    "Information_Gain = Prior_GINIindex(2,3)-Result # Cough"
   ]
  },
  {
   "cell_type": "code",
   "execution_count": 48,
   "id": "afa7276a",
   "metadata": {},
   "outputs": [
    {
     "data": {
      "text/plain": [
       "0.013333333333333308"
      ]
     },
     "execution_count": 48,
     "metadata": {},
     "output_type": "execute_result"
    }
   ],
   "source": [
    "Information_Gain"
   ]
  },
  {
   "cell_type": "code",
   "execution_count": 49,
   "id": "af548516",
   "metadata": {},
   "outputs": [
    {
     "name": "stderr",
     "output_type": "stream",
     "text": [
      "<ipython-input-39-685fe0fa33ae>:1: RuntimeWarning: divide by zero encountered in log2\n",
      "  Proir_Entropy = lambda x,y: -x/(x+y)*np.log2(x/(x+y)) - y/(x+y)*np.log2(y/(x+y))\n",
      "<ipython-input-39-685fe0fa33ae>:1: RuntimeWarning: invalid value encountered in double_scalars\n",
      "  Proir_Entropy = lambda x,y: -x/(x+y)*np.log2(x/(x+y)) - y/(x+y)*np.log2(y/(x+y))\n"
     ]
    }
   ],
   "source": [
    "#Entropy for Fever\n",
    "\n",
    "Result = 2/5*Proir_Entropy(2, 0)+3/5*Proir_Entropy(1, 2) #Fever"
   ]
  },
  {
   "cell_type": "code",
   "execution_count": 50,
   "id": "b1c87fe9",
   "metadata": {},
   "outputs": [],
   "source": [
    "Result = 3/5*Proir_Entropy(1,2)"
   ]
  },
  {
   "cell_type": "code",
   "execution_count": 51,
   "id": "eee61ecc",
   "metadata": {},
   "outputs": [],
   "source": [
    "Information_Gain = Proir_Entropy(2, 3)-Result #Fever"
   ]
  },
  {
   "cell_type": "code",
   "execution_count": 52,
   "id": "4cf33f2c",
   "metadata": {},
   "outputs": [
    {
     "data": {
      "text/plain": [
       "0.4199730940219749"
      ]
     },
     "execution_count": 52,
     "metadata": {},
     "output_type": "execute_result"
    }
   ],
   "source": [
    "Information_Gain"
   ]
  },
  {
   "cell_type": "code",
   "execution_count": 53,
   "id": "53965a4b",
   "metadata": {},
   "outputs": [],
   "source": [
    "#GINI Index for Fever\n",
    "\n",
    "Result = 2/5*Prior_GINIindex(2,0)+3/5*Prior_GINIindex(1, 2)  #Cough"
   ]
  },
  {
   "cell_type": "code",
   "execution_count": 54,
   "id": "c1c2e248",
   "metadata": {},
   "outputs": [],
   "source": [
    "Information_Gain = Prior_GINIindex(2, 3)-Result #Cough"
   ]
  },
  {
   "cell_type": "code",
   "execution_count": 55,
   "id": "9a580378",
   "metadata": {},
   "outputs": [
    {
     "data": {
      "text/plain": [
       "0.21333333333333332"
      ]
     },
     "execution_count": 55,
     "metadata": {},
     "output_type": "execute_result"
    }
   ],
   "source": [
    "Information_Gain"
   ]
  }
 ],
 "metadata": {
  "kernelspec": {
   "display_name": "Python 3",
   "language": "python",
   "name": "python3"
  },
  "language_info": {
   "codemirror_mode": {
    "name": "ipython",
    "version": 3
   },
   "file_extension": ".py",
   "mimetype": "text/x-python",
   "name": "python",
   "nbconvert_exporter": "python",
   "pygments_lexer": "ipython3",
   "version": "3.8.8"
  }
 },
 "nbformat": 4,
 "nbformat_minor": 5
}
