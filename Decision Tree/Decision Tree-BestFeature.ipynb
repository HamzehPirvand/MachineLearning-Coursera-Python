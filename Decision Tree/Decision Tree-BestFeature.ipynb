{
 "cells": [
  {
   "cell_type": "code",
   "execution_count": 75,
   "id": "92fa1ea1",
   "metadata": {},
   "outputs": [],
   "source": [
    "#Find Best feature and Split value for Decision Trees from Scratch - Part 20"
   ]
  },
  {
   "cell_type": "code",
   "execution_count": 76,
   "id": "019b1955",
   "metadata": {},
   "outputs": [],
   "source": [
    "import pandas as pd # Data manipulation\n",
    "import numpy as np # Scientific computing\n",
    "from sklearn.datasets import load_iris #Inbuild data set found in Sklearn learn \n",
    "import seaborn as sns # For data visualization\n",
    "import matplotlib.pyplot as plt # For data visualization"
   ]
  },
  {
   "cell_type": "code",
   "execution_count": 77,
   "id": "922a22de",
   "metadata": {},
   "outputs": [],
   "source": [
    "iris = load_iris() # loading default data set"
   ]
  },
  {
   "cell_type": "code",
   "execution_count": 78,
   "id": "72debf5c",
   "metadata": {},
   "outputs": [],
   "source": [
    "X = iris.data # Setting values to X\n",
    "y= iris.target # Setting values to y"
   ]
  },
  {
   "cell_type": "code",
   "execution_count": 79,
   "id": "569fb4a6",
   "metadata": {},
   "outputs": [
    {
     "data": {
      "text/plain": [
       "{0, 1, 2}"
      ]
     },
     "execution_count": 79,
     "metadata": {},
     "output_type": "execute_result"
    }
   ],
   "source": [
    "set(y)"
   ]
  },
  {
   "cell_type": "code",
   "execution_count": 80,
   "id": "11e15b52",
   "metadata": {},
   "outputs": [],
   "source": [
    "y_numeric = lambda y: 'Iris-setosa' if y==0 else ('Iris-versicolor' if y==1  else 'Iris-Virginica') # Converting numeric to catagorical\n",
    "vfunc = np.vectorize(y_numeric)  # We need to vectorize\n",
    "y = vfunc(y)"
   ]
  },
  {
   "cell_type": "code",
   "execution_count": 81,
   "id": "7b86053d",
   "metadata": {},
   "outputs": [
    {
     "data": {
      "text/plain": [
       "array(['Iris-setosa', 'Iris-setosa', 'Iris-setosa', 'Iris-setosa',\n",
       "       'Iris-setosa'], dtype='<U15')"
      ]
     },
     "execution_count": 81,
     "metadata": {},
     "output_type": "execute_result"
    }
   ],
   "source": [
    "y[:5] # Checking top 4 rows"
   ]
  },
  {
   "cell_type": "code",
   "execution_count": 82,
   "id": "8b15e3d8",
   "metadata": {},
   "outputs": [],
   "source": [
    "df = pd.DataFrame(X,columns = ['sepal_length','sepal_width','petal_length','petal_width']) # Loading data in data frame"
   ]
  },
  {
   "cell_type": "code",
   "execution_count": 83,
   "id": "c94f33d4",
   "metadata": {},
   "outputs": [],
   "source": [
    "df['Label'] = y # Adding new columns to the dataframe"
   ]
  },
  {
   "cell_type": "code",
   "execution_count": 84,
   "id": "f27415d4",
   "metadata": {},
   "outputs": [],
   "source": [
    "df['Label'] = df['Label'].astype('category')"
   ]
  },
  {
   "cell_type": "code",
   "execution_count": 85,
   "id": "873ef15a",
   "metadata": {},
   "outputs": [],
   "source": [
    "data = df.values # Converting dataframe to numpy array"
   ]
  },
  {
   "cell_type": "code",
   "execution_count": 86,
   "id": "6a8efb9d",
   "metadata": {},
   "outputs": [
    {
     "data": {
      "text/plain": [
       "array([[5.1, 3.5, 1.4, 0.2, 'Iris-setosa'],\n",
       "       [4.9, 3.0, 1.4, 0.2, 'Iris-setosa'],\n",
       "       [4.7, 3.2, 1.3, 0.2, 'Iris-setosa'],\n",
       "       [4.6, 3.1, 1.5, 0.2, 'Iris-setosa'],\n",
       "       [5.0, 3.6, 1.4, 0.2, 'Iris-setosa']], dtype=object)"
      ]
     },
     "execution_count": 86,
     "metadata": {},
     "output_type": "execute_result"
    }
   ],
   "source": [
    "data[:5] # Checking top 4 rows"
   ]
  },
  {
   "cell_type": "code",
   "execution_count": 87,
   "id": "0b73f2bc",
   "metadata": {},
   "outputs": [
    {
     "data": {
      "text/plain": [
       "['Iris-setosa', 'Iris-versicolor', 'Iris-Virginica']\n",
       "Categories (3, object): ['Iris-setosa', 'Iris-versicolor', 'Iris-Virginica']"
      ]
     },
     "execution_count": 87,
     "metadata": {},
     "output_type": "execute_result"
    }
   ],
   "source": [
    "df['Label'].unique()"
   ]
  },
  {
   "cell_type": "code",
   "execution_count": 88,
   "id": "538ade36",
   "metadata": {},
   "outputs": [
    {
     "data": {
      "image/png": "[encoded data removed]",
      "text/plain": [
       "<Figure size 463.25x360 with 1 Axes>"
      ]
     },
     "metadata": {
      "needs_background": "light"
     },
     "output_type": "display_data"
    }
   ],
   "source": [
    "sns.lmplot(data= df, x = \"petal_width\",y=\"petal_length\",hue= 'Label',fit_reg = False) # using linear model plot \n",
    "plt.vlines(x=0.8,ymin = 1,ymax = 7)\n",
    "plt.show()"
   ]
  },
  {
   "cell_type": "code",
   "execution_count": 89,
   "id": "ca3b7165",
   "metadata": {},
   "outputs": [
    {
     "data": {
      "text/html": [
       "<div>\n",
       "<style scoped>\n",
       "    .dataframe tbody tr th:only-of-type {\n",
       "        vertical-align: middle;\n",
       "    }\n",
       "\n",
       "    .dataframe tbody tr th {\n",
       "        vertical-align: top;\n",
       "    }\n",
       "\n",
       "    .dataframe thead th {\n",
       "        text-align: right;\n",
       "    }\n",
       "</style>\n",
       "<table border=\"1\" class=\"dataframe\">\n",
       "  <thead>\n",
       "    <tr style=\"text-align: right;\">\n",
       "      <th></th>\n",
       "      <th>sepal_length</th>\n",
       "      <th>sepal_width</th>\n",
       "      <th>petal_length</th>\n",
       "      <th>petal_width</th>\n",
       "      <th>Label</th>\n",
       "    </tr>\n",
       "  </thead>\n",
       "  <tbody>\n",
       "    <tr>\n",
       "      <th>0</th>\n",
       "      <td>5.1</td>\n",
       "      <td>3.5</td>\n",
       "      <td>1.4</td>\n",
       "      <td>0.2</td>\n",
       "      <td>Iris-setosa</td>\n",
       "    </tr>\n",
       "    <tr>\n",
       "      <th>1</th>\n",
       "      <td>4.9</td>\n",
       "      <td>3.0</td>\n",
       "      <td>1.4</td>\n",
       "      <td>0.2</td>\n",
       "      <td>Iris-setosa</td>\n",
       "    </tr>\n",
       "    <tr>\n",
       "      <th>2</th>\n",
       "      <td>4.7</td>\n",
       "      <td>3.2</td>\n",
       "      <td>1.3</td>\n",
       "      <td>0.2</td>\n",
       "      <td>Iris-setosa</td>\n",
       "    </tr>\n",
       "    <tr>\n",
       "      <th>3</th>\n",
       "      <td>4.6</td>\n",
       "      <td>3.1</td>\n",
       "      <td>1.5</td>\n",
       "      <td>0.2</td>\n",
       "      <td>Iris-setosa</td>\n",
       "    </tr>\n",
       "    <tr>\n",
       "      <th>4</th>\n",
       "      <td>5.0</td>\n",
       "      <td>3.6</td>\n",
       "      <td>1.4</td>\n",
       "      <td>0.2</td>\n",
       "      <td>Iris-setosa</td>\n",
       "    </tr>\n",
       "  </tbody>\n",
       "</table>\n",
       "</div>"
      ],
      "text/plain": [
       "   sepal_length  sepal_width  petal_length  petal_width        Label\n",
       "0           5.1          3.5           1.4          0.2  Iris-setosa\n",
       "1           4.9          3.0           1.4          0.2  Iris-setosa\n",
       "2           4.7          3.2           1.3          0.2  Iris-setosa\n",
       "3           4.6          3.1           1.5          0.2  Iris-setosa\n",
       "4           5.0          3.6           1.4          0.2  Iris-setosa"
      ]
     },
     "execution_count": 89,
     "metadata": {},
     "output_type": "execute_result"
    }
   ],
   "source": [
    "#Split data\n",
    "\n",
    "df.head()"
   ]
  },
  {
   "cell_type": "code",
   "execution_count": 90,
   "id": "6a11c6b0",
   "metadata": {},
   "outputs": [],
   "source": [
    "def split_data(data, split_column, split_value):\n",
    "    \"\"\" Split data based on column name and split value\"\"\"\n",
    "    split_columns = data[:, split_column]\n",
    "    data_below = data[split_columns<=split_value] # this gives data less than the split value\n",
    "    data_above = data[split_columns>split_value] # this gives data less than the split value\n",
    "    \n",
    "    return data_below, data_above"
   ]
  },
  {
   "cell_type": "code",
   "execution_count": 91,
   "id": "a026ea0e",
   "metadata": {},
   "outputs": [],
   "source": [
    "data_below, data_above = split_data(data, 3, 0.8)  # Randomly choosing split columns and split values"
   ]
  },
  {
   "cell_type": "code",
   "execution_count": 92,
   "id": "e07d8884",
   "metadata": {},
   "outputs": [
    {
     "data": {
      "text/plain": [
       "array([[7.0, 3.2, 4.7, 1.4, 'Iris-versicolor'],\n",
       "       [6.4, 3.2, 4.5, 1.5, 'Iris-versicolor'],\n",
       "       [6.9, 3.1, 4.9, 1.5, 'Iris-versicolor'],\n",
       "       [5.5, 2.3, 4.0, 1.3, 'Iris-versicolor'],\n",
       "       [6.5, 2.8, 4.6, 1.5, 'Iris-versicolor']], dtype=object)"
      ]
     },
     "execution_count": 92,
     "metadata": {},
     "output_type": "execute_result"
    }
   ],
   "source": [
    "data_above[:5]   # Checking top 5 values"
   ]
  },
  {
   "cell_type": "code",
   "execution_count": 93,
   "id": "d3054a9e",
   "metadata": {},
   "outputs": [
    {
     "data": {
      "text/plain": [
       "array([[5.1, 3.5, 1.4, 0.2, 'Iris-setosa'],\n",
       "       [4.9, 3.0, 1.4, 0.2, 'Iris-setosa'],\n",
       "       [4.7, 3.2, 1.3, 0.2, 'Iris-setosa'],\n",
       "       [4.6, 3.1, 1.5, 0.2, 'Iris-setosa'],\n",
       "       [5.0, 3.6, 1.4, 0.2, 'Iris-setosa']], dtype=object)"
      ]
     },
     "execution_count": 93,
     "metadata": {},
     "output_type": "execute_result"
    }
   ],
   "source": [
    "data_below[:5]  # Checking top 5 values"
   ]
  },
  {
   "cell_type": "code",
   "execution_count": 94,
   "id": "e5a6a806",
   "metadata": {},
   "outputs": [],
   "source": [
    "def calculate_entropy(data):\n",
    "    \"\"\"Calculate entropy based on dependent variable (label)\"\"\"\n",
    "    label_columns = data[:, 1] # -1 gives last variable\n",
    "    counts = np.unique(label_columns, return_counts = True)[1] # To generate unique value and [1] means to take 2nd item of list.\n",
    "    probability = counts/counts.sum() # To Compute probability\n",
    "    entropy = sum(probability* -np.log2(probability))  # To Compute entropy\n",
    "    \n",
    "    return entropy, probability   # To return entropy and probability"
   ]
  },
  {
   "cell_type": "code",
   "execution_count": 95,
   "id": "be0c526c",
   "metadata": {},
   "outputs": [],
   "source": [
    "# Checking the entropy of data below\n",
    "\n",
    "entropy, probability = calculate_entropy(data_below)"
   ]
  },
  {
   "cell_type": "code",
   "execution_count": 96,
   "id": "bc58fb02",
   "metadata": {},
   "outputs": [
    {
     "data": {
      "text/plain": [
       "(3.6304903797667554,\n",
       " array([0.02, 0.02, 0.12, 0.08, 0.1 , 0.04, 0.18, 0.12, 0.06, 0.06, 0.08,\n",
       "        0.04, 0.02, 0.02, 0.02, 0.02]))"
      ]
     },
     "execution_count": 96,
     "metadata": {},
     "output_type": "execute_result"
    }
   ],
   "source": [
    "entropy, probability"
   ]
  },
  {
   "cell_type": "code",
   "execution_count": 97,
   "id": "0e9e97c3",
   "metadata": {},
   "outputs": [],
   "source": [
    "# Checking the entropy of data above\n",
    "\n",
    "entropy, probability = calculate_entropy(data_above)"
   ]
  },
  {
   "cell_type": "code",
   "execution_count": 98,
   "id": "d9e5cd39",
   "metadata": {},
   "outputs": [
    {
     "data": {
      "text/plain": [
       "(3.5930476320746316,\n",
       " array([0.01, 0.03, 0.03, 0.03, 0.08, 0.05, 0.09, 0.14, 0.09, 0.2 , 0.07,\n",
       "        0.08, 0.04, 0.03, 0.01, 0.02]))"
      ]
     },
     "execution_count": 98,
     "metadata": {},
     "output_type": "execute_result"
    }
   ],
   "source": [
    "entropy, probability"
   ]
  },
  {
   "cell_type": "code",
   "execution_count": 99,
   "id": "48969309",
   "metadata": {},
   "outputs": [],
   "source": [
    "def calculate_giniindex(data):\n",
    "    \"\"\"Calculate Gini Index based on Dependent variable (Label)\"\"\"\n",
    "    label_columns = data[:, -1]  # -1 gives last variable\n",
    "    counts = np.unique(label_columns, return_counts = True)[1]  # To generate unique value and [1] means to take 2nd item of list\n",
    "    probability = counts/counts.sum() # To Compute probability\n",
    "    GINIIndex = (1 - np.sum(probability**2, axis=0)) # To Compute GINI\n",
    "    \n",
    "    return probability, GINIIndex  # To return GINI and probability"
   ]
  },
  {
   "cell_type": "code",
   "execution_count": 100,
   "id": "fc32cb20",
   "metadata": {},
   "outputs": [],
   "source": [
    "GINIIndex, probability = calculate_giniindex(data_below)"
   ]
  },
  {
   "cell_type": "code",
   "execution_count": 101,
   "id": "fe10497e",
   "metadata": {},
   "outputs": [
    {
     "data": {
      "text/plain": [
       "(array([1.]), 0.0)"
      ]
     },
     "execution_count": 101,
     "metadata": {},
     "output_type": "execute_result"
    }
   ],
   "source": [
    "GINIIndex, probability"
   ]
  },
  {
   "cell_type": "code",
   "execution_count": 102,
   "id": "e421038f",
   "metadata": {},
   "outputs": [],
   "source": [
    "GINIIndex, probability = calculate_giniindex(data_above)"
   ]
  },
  {
   "cell_type": "code",
   "execution_count": 103,
   "id": "c4e6b28f",
   "metadata": {},
   "outputs": [
    {
     "data": {
      "text/plain": [
       "(array([0.5, 0.5]), 0.5)"
      ]
     },
     "execution_count": 103,
     "metadata": {},
     "output_type": "execute_result"
    }
   ],
   "source": [
    "GINIIndex, probability"
   ]
  },
  {
   "cell_type": "code",
   "execution_count": 104,
   "id": "0ed6225a",
   "metadata": {},
   "outputs": [],
   "source": [
    "## Writing equations to calulate entropy using Lambda\n",
    "\n",
    "Proir_Entropy = lambda x,y:-x/(x+y)*np.log2(x/(x+y))-y/(x+y)*np.log2(y/(x+y))"
   ]
  },
  {
   "cell_type": "code",
   "execution_count": 105,
   "id": "eaa04477",
   "metadata": {},
   "outputs": [
    {
     "data": {
      "text/plain": [
       "0.9709505944546686"
      ]
     },
     "execution_count": 105,
     "metadata": {},
     "output_type": "execute_result"
    }
   ],
   "source": [
    "Proir_Entropy(2, 3)"
   ]
  },
  {
   "cell_type": "code",
   "execution_count": 106,
   "id": "0fad1901",
   "metadata": {},
   "outputs": [],
   "source": [
    "# Writing equations to calulate Gini index using Lambda\n",
    "\n",
    "Prior_GINIindex = lambda x,y:1-((x/(x+y))**2+(y/(x+y))**2)  # Writing equations to calulate entropy"
   ]
  },
  {
   "cell_type": "code",
   "execution_count": 107,
   "id": "e3ac4e7c",
   "metadata": {},
   "outputs": [
    {
     "data": {
      "text/plain": [
       "0.48"
      ]
     },
     "execution_count": 107,
     "metadata": {},
     "output_type": "execute_result"
    }
   ],
   "source": [
    "Prior_GINIindex(2, 3)"
   ]
  },
  {
   "cell_type": "code",
   "execution_count": 108,
   "id": "dc2b82e6",
   "metadata": {},
   "outputs": [],
   "source": [
    "Result = 2/5*Proir_Entropy(1, 1)+3/5*Proir_Entropy(2, 1) #Cough"
   ]
  },
  {
   "cell_type": "code",
   "execution_count": 109,
   "id": "83e082c9",
   "metadata": {},
   "outputs": [],
   "source": [
    "Information_Gain = Proir_Entropy(2, 3)-Result #Cough"
   ]
  },
  {
   "cell_type": "code",
   "execution_count": 110,
   "id": "7dae3fb4",
   "metadata": {},
   "outputs": [
    {
     "data": {
      "text/plain": [
       "0.01997309402197489"
      ]
     },
     "execution_count": 110,
     "metadata": {},
     "output_type": "execute_result"
    }
   ],
   "source": [
    "Information_Gain #Cough"
   ]
  },
  {
   "cell_type": "code",
   "execution_count": 111,
   "id": "bdc7f00e",
   "metadata": {},
   "outputs": [],
   "source": [
    "Result = 2/5*Prior_GINIindex(1, 1)+3/5*Prior_GINIindex(2, 1) #Cough"
   ]
  },
  {
   "cell_type": "code",
   "execution_count": 112,
   "id": "333c5548",
   "metadata": {},
   "outputs": [],
   "source": [
    "Information_Gain = Prior_GINIindex(2, 3)-Result #Cough"
   ]
  },
  {
   "cell_type": "code",
   "execution_count": 113,
   "id": "312f270b",
   "metadata": {},
   "outputs": [
    {
     "data": {
      "text/plain": [
       "0.013333333333333308"
      ]
     },
     "execution_count": 113,
     "metadata": {},
     "output_type": "execute_result"
    }
   ],
   "source": [
    "Information_Gain"
   ]
  },
  {
   "cell_type": "code",
   "execution_count": 114,
   "id": "dcbcd2f4",
   "metadata": {},
   "outputs": [],
   "source": [
    "import warnings\n",
    "warnings.filterwarnings('ignore') # library to ignore warnings\n",
    "\n",
    "Result = 2/5*Proir_Entropy(2, 0)+3/5*Proir_Entropy(1, 2) #Fever"
   ]
  },
  {
   "cell_type": "code",
   "execution_count": 115,
   "id": "c7760817",
   "metadata": {},
   "outputs": [],
   "source": [
    "Result = 3/5*Proir_Entropy(1, 2)"
   ]
  },
  {
   "cell_type": "code",
   "execution_count": 116,
   "id": "f66635c6",
   "metadata": {},
   "outputs": [],
   "source": [
    "Information_Gain = Proir_Entropy(2, 3)-Result #Fever"
   ]
  },
  {
   "cell_type": "code",
   "execution_count": 117,
   "id": "cff10461",
   "metadata": {},
   "outputs": [
    {
     "data": {
      "text/plain": [
       "0.4199730940219749"
      ]
     },
     "execution_count": 117,
     "metadata": {},
     "output_type": "execute_result"
    }
   ],
   "source": [
    "Information_Gain"
   ]
  },
  {
   "cell_type": "code",
   "execution_count": 118,
   "id": "f8bd612d",
   "metadata": {},
   "outputs": [],
   "source": [
    "Result = 2/5*Prior_GINIindex(2, 0)+3/5*Prior_GINIindex(1, 2) #Cough"
   ]
  },
  {
   "cell_type": "code",
   "execution_count": 119,
   "id": "92749b71",
   "metadata": {},
   "outputs": [],
   "source": [
    "Information_Gain = Prior_GINIindex(2, 3)-Result #Cough"
   ]
  },
  {
   "cell_type": "code",
   "execution_count": 120,
   "id": "0e44c105",
   "metadata": {},
   "outputs": [
    {
     "data": {
      "text/plain": [
       "0.21333333333333332"
      ]
     },
     "execution_count": 120,
     "metadata": {},
     "output_type": "execute_result"
    }
   ],
   "source": [
    "Information_Gain"
   ]
  },
  {
   "cell_type": "code",
   "execution_count": 121,
   "id": "2122ec6c",
   "metadata": {},
   "outputs": [
    {
     "data": {
      "text/plain": [
       "{False, True}"
      ]
     },
     "execution_count": 121,
     "metadata": {},
     "output_type": "execute_result"
    }
   ],
   "source": [
    "#Find Best Feature and Split value in Decision Tree\n",
    "\n",
    "set(data[:, -1] == 'Iris-Virginica')"
   ]
  },
  {
   "cell_type": "code",
   "execution_count": 122,
   "id": "7e2c02da",
   "metadata": {},
   "outputs": [],
   "source": [
    "def check_purity(data):\n",
    "    \"\"\" Return Boolean value based on dependent variable \"\"\"\n",
    "    dt = data[:, -1] #last columns\n",
    "    unique_value, unique_count = np.unique(dt, return_counts = True)  # unique value and count\n",
    "    if len(unique_value) == 1:  # to check purities\n",
    "        return True\n",
    "    else:\n",
    "        return False"
   ]
  },
  {
   "cell_type": "code",
   "execution_count": 123,
   "id": "aa1efcc5",
   "metadata": {},
   "outputs": [],
   "source": [
    "#Classify data: - We will return maximum count of the dependent variable based on impuries found in point 1\n",
    "\n",
    "def classify_data(data):\n",
    "    \"\"\"Returns maximum count of the dependent variable based on impuries found in point 1\"\"\"\n",
    "    dt = data[:, -1]  # last columns\n",
    "    unique_value, unique_count = np.unique(dt, return_counts = True)  # unique value and count\n",
    "    classify = unique_value[np.argmax(unique_count)]\n",
    "    \n",
    "    return classify"
   ]
  },
  {
   "cell_type": "code",
   "execution_count": 124,
   "id": "22cf305f",
   "metadata": {},
   "outputs": [
    {
     "data": {
      "text/plain": [
       "'Iris-Virginica'"
      ]
     },
     "execution_count": 124,
     "metadata": {},
     "output_type": "execute_result"
    }
   ],
   "source": [
    "classify_data(data)"
   ]
  },
  {
   "cell_type": "code",
   "execution_count": 125,
   "id": "d354699f",
   "metadata": {},
   "outputs": [],
   "source": [
    "def split_data(data, split_column, split_value):\n",
    "    \"\"\" Split data based on column name and split value\"\"\"\n",
    "    split_columns = data[:, split_column]\n",
    "    data_below = data[split_columns<=split_value]  # this gives data less than the split value\n",
    "    data_above = data[split_columns>split_value]  # this gives data less than the split value\n",
    "    \n",
    "    return data_below, data_above"
   ]
  },
  {
   "cell_type": "code",
   "execution_count": 126,
   "id": "2ae77c1c",
   "metadata": {},
   "outputs": [],
   "source": [
    "def calculate_entropy(data):\n",
    "    \"\"\"Calculate entropy based on dependent variable (label)\"\"\"\n",
    "    label_columns = data[:, -1] # -1 gives last variable\n",
    "    counts = np.unique(label_columns, return_counts = True)[1]  # To generate unique value and [1] means to take 2nd item of list.\n",
    "    probability = counts/counts.sum()  # To Compute probability\n",
    "    entropy = sum(probability* -np.log2(probability))  # To Compute entropy\n",
    "    return entropy, probability  # To return entropy and probability\n",
    "\n",
    "def calculate_giniindex(data):\n",
    "    \"\"\"Calculate Gini Index based on Dependent variable (Label)\"\"\"\n",
    "    label_columns = data[:, -1]  # -1 gives last variable\n",
    "    counts = np.unique(label_columns, return_counts = True)[1]  # To generate unique value and [1] means to take 2nd item of list\n",
    "    probability = counts/counts.sum()  # To Compute probability\n",
    "    GINIIndex = (1 - np.sum(probability**2, axis=0))  # To Compute GINI\n",
    "    \n",
    "    return GINIIndex, probability    # To return GINI and probability"
   ]
  },
  {
   "cell_type": "code",
   "execution_count": 127,
   "id": "c70c4cdf",
   "metadata": {},
   "outputs": [],
   "source": [
    "def OverallEntropy(data_below, data_above):\n",
    "    \"\"\"Data Below and Data above is retrived from split_value function\"\"\"\n",
    "    new_entropy_below,_ = calculate_entropy(data_below)  # entropy for data below\n",
    "    new_entropy_above,_ = calculate_entropy(data_above)  # entropy for data above\n",
    "    Probability_below = len(data_below)/(len(data_below)+len(data_above)) # Proability for data below\n",
    "    Probability_above = len(data_above)/(len(data_below)+len(data_above)) # Proability for data above\n",
    "    overall_entropy = Probability_below*new_entropy_below+Probability_above*new_entropy_above  # Calculate over all Entropy\n",
    "    return overall_entropy\n",
    "\n",
    "def OverallGiniIndex(data_below, data_above):\n",
    "    \"\"\"Data Below and Data above is retrived from split_value function\"\"\"\n",
    "    new_GiniIndex_below,_ = calculate_giniindex(data_below)  # entropy for data below\n",
    "    new_GiniIndex_above,_ = calculate_giniindex(data_above)  # entropy for data above\n",
    "    Probability_below = len(data_below)/(len(data_below)+len(data_above))  # Proability for data below\n",
    "    Probability_above = len(data_above)/(len(data_below)+len(data_above))  # Proability for data above\n",
    "    overall_GiniIndex = Probability_below*new_GiniIndex_below+Probability_above*new_GiniIndex_above  # Calculate over all Entropy\n",
    "    \n",
    "    return overall_GiniIndex"
   ]
  },
  {
   "cell_type": "code",
   "execution_count": 128,
   "id": "091dbb89",
   "metadata": {},
   "outputs": [],
   "source": [
    "def potential_split(data):\n",
    "        \"\"\"Calculate the mean of two points to determine potential split\"\"\"\n",
    "        potential_splitdata = {} # to store feature name and mean value\n",
    "        dt = data[:,:-1] # to exclude labels (Dependent variable)\n",
    "        columns = dt.shape[1] # to iterate over each feature [1] will give features\n",
    "        for colum_index in range(columns):\n",
    "            feature = dt[:,colum_index] # to iterate over each feature [1] will give features\n",
    "            unique_value = np.unique(feature) # to take unique value of a feature\n",
    "            potential_splitdata[colum_index] = [] # to store feature in an empty list\n",
    "            for index in range(len(unique_value)):\n",
    "                if index!= 0:\n",
    "                    current_value = unique_value[index] # to give current value\n",
    "                    previous_value = unique_value[index-1] # to give previous value\n",
    "                    potential_split = (current_value+previous_value)/2 # to give mean value\n",
    "                    potential_splitdata[colum_index].append(potential_split)# to store in a dictionary\n",
    "        return potential_splitdata"
   ]
  },
  {
   "cell_type": "code",
   "execution_count": 129,
   "id": "7473e883",
   "metadata": {},
   "outputs": [],
   "source": [
    "potential_split_data = potential_split(data)"
   ]
  },
  {
   "cell_type": "code",
   "execution_count": 132,
   "id": "d42e957c",
   "metadata": {},
   "outputs": [
    {
     "data": {
      "text/plain": [
       "[0.15000000000000002,\n",
       " 0.25,\n",
       " 0.35,\n",
       " 0.45,\n",
       " 0.55,\n",
       " 0.8,\n",
       " 1.05,\n",
       " 1.15,\n",
       " 1.25,\n",
       " 1.35,\n",
       " 1.45,\n",
       " 1.55,\n",
       " 1.65,\n",
       " 1.75,\n",
       " 1.85,\n",
       " 1.95,\n",
       " 2.05,\n",
       " 2.1500000000000004,\n",
       " 2.25,\n",
       " 2.3499999999999996,\n",
       " 2.45]"
      ]
     },
     "execution_count": 132,
     "metadata": {},
     "output_type": "execute_result"
    }
   ],
   "source": [
    "potential_split_data[3]"
   ]
  },
  {
   "cell_type": "code",
   "execution_count": 133,
   "id": "3734e7fc",
   "metadata": {},
   "outputs": [
    {
     "data": {
      "image/png": "[encoded data removed]",
      "text/plain": [
       "<Figure size 463.25x360 with 1 Axes>"
      ]
     },
     "metadata": {
      "needs_background": "light"
     },
     "output_type": "display_data"
    }
   ],
   "source": [
    "sns.lmplot(data= df, x = \"petal_width\",y=\"petal_length\",hue = \"Label\",fit_reg = False)\n",
    "plt.vlines(x=potential_split_data[3],ymin = 1,ymax = 7)\n",
    "plt.show()"
   ]
  },
  {
   "cell_type": "code",
   "execution_count": 134,
   "id": "4832eb90",
   "metadata": {},
   "outputs": [],
   "source": [
    "def determine_best_split(data,potential_splits):\n",
    "        \"\"\"Find best split based on the potential splits result\"\"\"\n",
    "        overall_GiniIndex = 9999 # Check and compare the GINI index in order to receive lowest value\n",
    "        for column_name in potential_splits:\n",
    "            for values in potential_splits[column_name]:\n",
    "                data_below,data_above  = split_data(data,column_name,values) # Split data\n",
    "                current_overall_GiniIndex = OverallGiniIndex(data_below,data_above)# Calculate overall Gini Indx\n",
    "            \n",
    "                if current_overall_GiniIndex <= overall_GiniIndex: # To check lowest Gini Index\n",
    "                    overall_GiniIndex = current_overall_GiniIndex\n",
    "                    BestFeature = column_name\n",
    "                    Best_Split_value = values\n",
    "        return BestFeature,Best_Split_value"
   ]
  },
  {
   "cell_type": "code",
   "execution_count": 135,
   "id": "72e22c8d",
   "metadata": {},
   "outputs": [],
   "source": [
    "BestFeature,Best_Split_value = determine_best_split(data,potential_split_data)"
   ]
  },
  {
   "cell_type": "code",
   "execution_count": 136,
   "id": "eecb7d8e",
   "metadata": {},
   "outputs": [
    {
     "data": {
      "text/plain": [
       "('petal_width', 0.8)"
      ]
     },
     "execution_count": 136,
     "metadata": {},
     "output_type": "execute_result"
    }
   ],
   "source": [
    "df.columns[BestFeature],Best_Split_value"
   ]
  },
  {
   "cell_type": "code",
   "execution_count": 137,
   "id": "58952473",
   "metadata": {},
   "outputs": [
    {
     "data": {
      "text/html": [
       "<div>\n",
       "<style scoped>\n",
       "    .dataframe tbody tr th:only-of-type {\n",
       "        vertical-align: middle;\n",
       "    }\n",
       "\n",
       "    .dataframe tbody tr th {\n",
       "        vertical-align: top;\n",
       "    }\n",
       "\n",
       "    .dataframe thead th {\n",
       "        text-align: right;\n",
       "    }\n",
       "</style>\n",
       "<table border=\"1\" class=\"dataframe\">\n",
       "  <thead>\n",
       "    <tr style=\"text-align: right;\">\n",
       "      <th></th>\n",
       "      <th>sepal_length</th>\n",
       "      <th>sepal_width</th>\n",
       "      <th>petal_length</th>\n",
       "      <th>petal_width</th>\n",
       "      <th>Label</th>\n",
       "    </tr>\n",
       "  </thead>\n",
       "  <tbody>\n",
       "    <tr>\n",
       "      <th>0</th>\n",
       "      <td>5.1</td>\n",
       "      <td>3.5</td>\n",
       "      <td>1.4</td>\n",
       "      <td>0.2</td>\n",
       "      <td>Iris-setosa</td>\n",
       "    </tr>\n",
       "    <tr>\n",
       "      <th>1</th>\n",
       "      <td>4.9</td>\n",
       "      <td>3.0</td>\n",
       "      <td>1.4</td>\n",
       "      <td>0.2</td>\n",
       "      <td>Iris-setosa</td>\n",
       "    </tr>\n",
       "    <tr>\n",
       "      <th>2</th>\n",
       "      <td>4.7</td>\n",
       "      <td>3.2</td>\n",
       "      <td>1.3</td>\n",
       "      <td>0.2</td>\n",
       "      <td>Iris-setosa</td>\n",
       "    </tr>\n",
       "    <tr>\n",
       "      <th>3</th>\n",
       "      <td>4.6</td>\n",
       "      <td>3.1</td>\n",
       "      <td>1.5</td>\n",
       "      <td>0.2</td>\n",
       "      <td>Iris-setosa</td>\n",
       "    </tr>\n",
       "    <tr>\n",
       "      <th>4</th>\n",
       "      <td>5.0</td>\n",
       "      <td>3.6</td>\n",
       "      <td>1.4</td>\n",
       "      <td>0.2</td>\n",
       "      <td>Iris-setosa</td>\n",
       "    </tr>\n",
       "  </tbody>\n",
       "</table>\n",
       "</div>"
      ],
      "text/plain": [
       "   sepal_length  sepal_width  petal_length  petal_width        Label\n",
       "0           5.1          3.5           1.4          0.2  Iris-setosa\n",
       "1           4.9          3.0           1.4          0.2  Iris-setosa\n",
       "2           4.7          3.2           1.3          0.2  Iris-setosa\n",
       "3           4.6          3.1           1.5          0.2  Iris-setosa\n",
       "4           5.0          3.6           1.4          0.2  Iris-setosa"
      ]
     },
     "execution_count": 137,
     "metadata": {},
     "output_type": "execute_result"
    }
   ],
   "source": [
    "df.head()"
   ]
  },
  {
   "cell_type": "code",
   "execution_count": 138,
   "id": "2c5ff03d",
   "metadata": {},
   "outputs": [],
   "source": [
    "def decision_tree_algorithm(df, counter = 0, min_sample = 2, max_depth = 5):\n",
    "    \n",
    "    if counter == 0:\n",
    "        data = df.values\n",
    "        global Column_header\n",
    "        Column_header = df.columns\n",
    "    else:\n",
    "        data = df\n",
    "        \n",
    "        \n",
    "    if check_purity(data) or (len(data) <= min_sample) or (counter == max_depth): # if only one dependent variable that means I have nothing to split\n",
    "        classify = classify_data(data)\n",
    "        return classify\n",
    "    else:\n",
    "        counter += 1\n",
    "        Potentialsplit_data = potential_split(data)  # If we have more than one dependent variable\n",
    "        BestFeature, Split_Value = determine_best_split(data, Potentialsplit_data)  # Find best feature and split value\n",
    "        data_below, data_above = split_data(data, split_column = BestFeature, split_value = Split_Value) # Split the data\n",
    "        \n",
    "        feature = Column_header[BestFeature]  # Get column name\n",
    "        Tree = '{} <= {}'.format(feature, Split_Value)  # Store result in a dictionary\n",
    "        sub_tree = {Tree:[]}\n",
    "        \n",
    "        # Recursive function\n",
    "        True_answer = decision_tree_algorithm(data_below, counter, min_sample, max_depth)\n",
    "        False_answer = decision_tree_algorithm(data_above, counter, min_sample, max_depth)\n",
    "        \n",
    "        # Visulize the result we append the split\n",
    "        sub_tree[Tree].append(True_answer)\n",
    "        sub_tree[Tree].append(False_answer)\n",
    "        \n",
    "        return sub_tree"
   ]
  },
  {
   "cell_type": "code",
   "execution_count": 139,
   "id": "224cc931",
   "metadata": {},
   "outputs": [],
   "source": [
    "sub_tree = decision_tree_algorithm(df, max_depth = 4)"
   ]
  },
  {
   "cell_type": "code",
   "execution_count": 140,
   "id": "d1fdc200",
   "metadata": {},
   "outputs": [
    {
     "data": {
      "text/plain": [
       "{'petal_width <= 0.8': ['Iris-setosa',\n",
       "  {'petal_width <= 1.75': [{'petal_length <= 4.95': [{'petal_width <= 1.65': ['Iris-versicolor',\n",
       "        'Iris-Virginica']},\n",
       "      {'petal_width <= 1.55': ['Iris-Virginica', 'Iris-versicolor']}]},\n",
       "    {'petal_length <= 4.85': [{'sepal_width <= 3.1': ['Iris-Virginica',\n",
       "        'Iris-versicolor']},\n",
       "      'Iris-Virginica']}]}]}"
      ]
     },
     "execution_count": 140,
     "metadata": {},
     "output_type": "execute_result"
    }
   ],
   "source": [
    "sub_tree"
   ]
  },
  {
   "cell_type": "code",
   "execution_count": 141,
   "id": "518fc764",
   "metadata": {},
   "outputs": [
    {
     "data": {
      "text/plain": [
       "'petal_width'"
      ]
     },
     "execution_count": 141,
     "metadata": {},
     "output_type": "execute_result"
    }
   ],
   "source": [
    "df.columns[3]"
   ]
  },
  {
   "cell_type": "code",
   "execution_count": 142,
   "id": "3c1500c9",
   "metadata": {},
   "outputs": [
    {
     "name": "stdout",
     "output_type": "stream",
     "text": [
      "{'petal_width <= 0.8': ['Iris-setosa',\n",
      "                        {'petal_width <= 1.75': [{'petal_length <= 4.95': [{'petal_width <= 1.65': ['Iris-versicolor',\n",
      "                                                                                                    'Iris-Virginica']},\n",
      "                                                                           {'petal_width <= 1.55': ['Iris-Virginica',\n",
      "                                                                                                    'Iris-versicolor']}]},\n",
      "                                                 {'petal_length <= 4.85': [{'sepal_width <= 3.1': ['Iris-Virginica',\n",
      "                                                                                                   'Iris-versicolor']},\n",
      "                                                                           'Iris-Virginica']}]}]}\n"
     ]
    }
   ],
   "source": [
    "from pprint import pprint\n",
    "pprint(sub_tree)"
   ]
  },
  {
   "cell_type": "code",
   "execution_count": 143,
   "id": "156cd10d",
   "metadata": {},
   "outputs": [],
   "source": [
    "from sklearn import tree\n",
    "clf = tree.DecisionTreeClassifier()\n",
    "clf = clf.fit(df.iloc[:,:-1],df.iloc[:,-1:])"
   ]
  },
  {
   "cell_type": "code",
   "execution_count": 144,
   "id": "64e847d8",
   "metadata": {},
   "outputs": [
    {
     "data": {
      "text/plain": [
       "DecisionTreeClassifier()"
      ]
     },
     "execution_count": 144,
     "metadata": {},
     "output_type": "execute_result"
    }
   ],
   "source": [
    "clf"
   ]
  },
  {
   "cell_type": "code",
   "execution_count": 176,
   "id": "7135adaa",
   "metadata": {},
   "outputs": [],
   "source": [
    "import graphviz\n",
    "dot = tree.export_graphviz(clf, out_file=None,feature_names=iris.feature_names,class_names=iris.target_names,filled=True, rounded=True,special_characters=True)  \n",
    "graph = graphviz.Source(dot)"
   ]
  },
  {
   "cell_type": "code",
   "execution_count": 179,
   "id": "396a6472",
   "metadata": {},
   "outputs": [],
   "source": [
    "import os\n",
    "os.environ[\"PATH\"] += os.pathsep + 'C:/Users/Hapi/AppData/Local/Programs/Python/Python39/Lib/site-packages/graphviz'"
   ]
  },
  {
   "cell_type": "code",
   "execution_count": null,
   "id": "45ecae29",
   "metadata": {},
   "outputs": [],
   "source": [
    "graph"
   ]
  }
 ],
 "metadata": {
  "kernelspec": {
   "display_name": "Python 3",
   "language": "python",
   "name": "python3"
  },
  "language_info": {
   "codemirror_mode": {
    "name": "ipython",
    "version": 3
   },
   "file_extension": ".py",
   "mimetype": "text/x-python",
   "name": "python",
   "nbconvert_exporter": "python",
   "pygments_lexer": "ipython3",
   "version": "3.8.8"
  }
 },
 "nbformat": 4,
 "nbformat_minor": 5
}
