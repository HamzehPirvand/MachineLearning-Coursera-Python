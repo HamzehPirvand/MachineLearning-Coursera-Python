{
 "cells": [
  {
   "cell_type": "code",
   "execution_count": 1,
   "id": "dc788076",
   "metadata": {},
   "outputs": [],
   "source": [
    "import pandas as pd\n",
    "import numpy as np\n",
    "import matplotlib.pyplot as plt\n",
    "import warnings\n",
    "warnings.filterwarnings(\"ignore\")\n",
    "from Logistic_Regression_Scratch import *"
   ]
  },
  {
   "cell_type": "code",
   "execution_count": 2,
   "id": "e629511e",
   "metadata": {},
   "outputs": [],
   "source": [
    "dt = pd.read_csv('dataset/ex2data1.txt', header=None)"
   ]
  },
  {
   "cell_type": "code",
   "execution_count": 3,
   "id": "92f582b3",
   "metadata": {},
   "outputs": [
    {
     "data": {
      "text/html": [
       "<div>\n",
       "<style scoped>\n",
       "    .dataframe tbody tr th:only-of-type {\n",
       "        vertical-align: middle;\n",
       "    }\n",
       "\n",
       "    .dataframe tbody tr th {\n",
       "        vertical-align: top;\n",
       "    }\n",
       "\n",
       "    .dataframe thead th {\n",
       "        text-align: right;\n",
       "    }\n",
       "</style>\n",
       "<table border=\"1\" class=\"dataframe\">\n",
       "  <thead>\n",
       "    <tr style=\"text-align: right;\">\n",
       "      <th></th>\n",
       "      <th>0</th>\n",
       "      <th>1</th>\n",
       "      <th>2</th>\n",
       "    </tr>\n",
       "  </thead>\n",
       "  <tbody>\n",
       "    <tr>\n",
       "      <th>0</th>\n",
       "      <td>34.623660</td>\n",
       "      <td>78.024693</td>\n",
       "      <td>0</td>\n",
       "    </tr>\n",
       "    <tr>\n",
       "      <th>1</th>\n",
       "      <td>30.286711</td>\n",
       "      <td>43.894998</td>\n",
       "      <td>0</td>\n",
       "    </tr>\n",
       "    <tr>\n",
       "      <th>2</th>\n",
       "      <td>35.847409</td>\n",
       "      <td>72.902198</td>\n",
       "      <td>0</td>\n",
       "    </tr>\n",
       "    <tr>\n",
       "      <th>3</th>\n",
       "      <td>60.182599</td>\n",
       "      <td>86.308552</td>\n",
       "      <td>1</td>\n",
       "    </tr>\n",
       "    <tr>\n",
       "      <th>4</th>\n",
       "      <td>79.032736</td>\n",
       "      <td>75.344376</td>\n",
       "      <td>1</td>\n",
       "    </tr>\n",
       "  </tbody>\n",
       "</table>\n",
       "</div>"
      ],
      "text/plain": [
       "           0          1  2\n",
       "0  34.623660  78.024693  0\n",
       "1  30.286711  43.894998  0\n",
       "2  35.847409  72.902198  0\n",
       "3  60.182599  86.308552  1\n",
       "4  79.032736  75.344376  1"
      ]
     },
     "execution_count": 3,
     "metadata": {},
     "output_type": "execute_result"
    }
   ],
   "source": [
    "dt.head()"
   ]
  },
  {
   "cell_type": "code",
   "execution_count": 4,
   "id": "f44dcb47",
   "metadata": {},
   "outputs": [],
   "source": [
    "def plotdata(dt):\n",
    "    plt.plot(dt[0][dt[2] == 0], dt[1][dt[2] == 0], 'kx', label = 'Not Admited')\n",
    "    plt.plot(dt[0][dt[2] == 1], dt[1][dt[2] == 1], 'yo', label = 'Admited')\n",
    "    plt.legend()\n",
    "    plt.show()"
   ]
  },
  {
   "cell_type": "code",
   "execution_count": 5,
   "id": "0077c726",
   "metadata": {},
   "outputs": [
    {
     "data": {
      "image/png": "[encoded data removed]",
      "text/plain": [
       "<Figure size 432x288 with 1 Axes>"
      ]
     },
     "metadata": {
      "needs_background": "light"
     },
     "output_type": "display_data"
    }
   ],
   "source": [
    "plotdata(dt)"
   ]
  },
  {
   "cell_type": "code",
   "execution_count": 6,
   "id": "e7db8465",
   "metadata": {},
   "outputs": [
    {
     "data": {
      "text/plain": [
       "0.7109495026250039"
      ]
     },
     "execution_count": 6,
     "metadata": {},
     "output_type": "execute_result"
    }
   ],
   "source": [
    "reg = LogisticRegression()\n",
    "reg.sigmoid(0.9)"
   ]
  },
  {
   "cell_type": "code",
   "execution_count": 11,
   "id": "2c7093d9",
   "metadata": {},
   "outputs": [],
   "source": [
    "def plot_sigmoid():\n",
    "    x = np.arange(-5, 5, 0.1)\n",
    "    y = reg.sigmoid(x)\n",
    "    plt.annotate('(0,0.5)', xy=(0,0.5), xytext = (-1, 0.55))\n",
    "    plt.axhline(y=0.5, c = 'black', ls = ':')\n",
    "    plt.axvline(x=0, c = 'black', ls = ':')\n",
    "    plt.plot(x, y)"
   ]
  },
  {
   "cell_type": "code",
   "execution_count": 12,
   "id": "5b0283e2",
   "metadata": {},
   "outputs": [
    {
     "data": {
      "image/png": "[encoded data removed]",
      "text/plain": [
       "<Figure size 432x288 with 1 Axes>"
      ]
     },
     "metadata": {
      "needs_background": "light"
     },
     "output_type": "display_data"
    }
   ],
   "source": [
    "plot_sigmoid()"
   ]
  },
  {
   "cell_type": "code",
   "execution_count": 13,
   "id": "da92f68d",
   "metadata": {},
   "outputs": [],
   "source": [
    "def appendone():\n",
    "    X = dt[[0, 1]].values\n",
    "    y = dt[2].values\n",
    "    m, n = X.shape\n",
    "    X0 = np.ones((m, 1))\n",
    "    X = np.append(X0, X, axis=1)\n",
    "    return X, y"
   ]
  },
  {
   "cell_type": "code",
   "execution_count": 14,
   "id": "4e1f535f",
   "metadata": {},
   "outputs": [],
   "source": [
    "X, y = appendone()"
   ]
  },
  {
   "cell_type": "code",
   "execution_count": 15,
   "id": "0b491a64",
   "metadata": {},
   "outputs": [],
   "source": [
    "initialtheta = np.zeros((X.shape[1]))"
   ]
  },
  {
   "cell_type": "code",
   "execution_count": 16,
   "id": "d1019b58",
   "metadata": {},
   "outputs": [],
   "source": [
    "hypothesis = reg.hypothesis(X, initialtheta)"
   ]
  },
  {
   "cell_type": "code",
   "execution_count": 17,
   "id": "cf8e11fb",
   "metadata": {},
   "outputs": [
    {
     "data": {
      "image/png": "[encoded data removed]",
      "text/plain": [
       "<Figure size 432x288 with 1 Axes>"
      ]
     },
     "metadata": {
      "needs_background": "light"
     },
     "output_type": "display_data"
    }
   ],
   "source": [
    "#Visualizing Cost function\n",
    "\n",
    "x = np.arange(0, 1, 0.01)\n",
    "plt.plot(x, 1 * np.log(x))\n",
    "plt.title('For Y=1')\n",
    "plt.show()"
   ]
  },
  {
   "cell_type": "code",
   "execution_count": 18,
   "id": "6e80677b",
   "metadata": {},
   "outputs": [
    {
     "data": {
      "image/png": "[encoded data removed]",
      "text/plain": [
       "<Figure size 432x288 with 1 Axes>"
      ]
     },
     "metadata": {
      "needs_background": "light"
     },
     "output_type": "display_data"
    }
   ],
   "source": [
    "x = np.arange(0, 1, 0.01)\n",
    "plt.plot(x, 1 * np.log(1 - x))\n",
    "plt.title('For Y=0')\n",
    "plt.show()"
   ]
  },
  {
   "cell_type": "code",
   "execution_count": 19,
   "id": "26804e0a",
   "metadata": {},
   "outputs": [
    {
     "data": {
      "image/png": "[encoded data removed]",
      "text/plain": [
       "<Figure size 432x288 with 1 Axes>"
      ]
     },
     "metadata": {
      "needs_background": "light"
     },
     "output_type": "display_data"
    }
   ],
   "source": [
    "x = np.arange(0, 1, 0.01)\n",
    "plt.plot(x, -1 * np.log(x))\n",
    "plt.plot(x, -1 * np.log(1 - x))\n",
    "plt.show()"
   ]
  },
  {
   "cell_type": "code",
   "execution_count": 20,
   "id": "8e61a0ff",
   "metadata": {},
   "outputs": [],
   "source": [
    "Cost = reg.costfunction(initialtheta, X, y)"
   ]
  },
  {
   "cell_type": "code",
   "execution_count": 21,
   "id": "b483bc48",
   "metadata": {},
   "outputs": [
    {
     "data": {
      "text/plain": [
       "0.6931471805599453"
      ]
     },
     "execution_count": 21,
     "metadata": {},
     "output_type": "execute_result"
    }
   ],
   "source": [
    "Cost"
   ]
  },
  {
   "cell_type": "code",
   "execution_count": 22,
   "id": "358b92d2",
   "metadata": {},
   "outputs": [],
   "source": [
    "test_theta = np.array([-24,0.2,0.2])"
   ]
  },
  {
   "cell_type": "code",
   "execution_count": 23,
   "id": "f4478dba",
   "metadata": {},
   "outputs": [],
   "source": [
    "Cost = reg.costfunction(test_theta, X, y)"
   ]
  },
  {
   "cell_type": "code",
   "execution_count": 24,
   "id": "e250e9a5",
   "metadata": {},
   "outputs": [
    {
     "data": {
      "text/plain": [
       "0.21833019382659782"
      ]
     },
     "execution_count": 24,
     "metadata": {},
     "output_type": "execute_result"
    }
   ],
   "source": [
    "Cost"
   ]
  },
  {
   "cell_type": "code",
   "execution_count": 25,
   "id": "9218e7d8",
   "metadata": {},
   "outputs": [],
   "source": [
    "grad = reg.gradient(X, y, test_theta)"
   ]
  },
  {
   "cell_type": "code",
   "execution_count": 26,
   "id": "c29e8e1b",
   "metadata": {},
   "outputs": [
    {
     "data": {
      "text/plain": [
       "array([0.04290299, 2.56623412, 2.64679737])"
      ]
     },
     "execution_count": 26,
     "metadata": {},
     "output_type": "execute_result"
    }
   ],
   "source": [
    "grad"
   ]
  },
  {
   "cell_type": "code",
   "execution_count": 27,
   "id": "32d236b5",
   "metadata": {},
   "outputs": [
    {
     "name": "stdout",
     "output_type": "stream",
     "text": [
      "Optimization terminated successfully.\n",
      "         Current function value: 0.203498\n",
      "         Iterations: 157\n",
      "         Function evaluations: 287\n"
     ]
    }
   ],
   "source": [
    "#Gradient descent\n",
    "\n",
    "theta = reg.minimumcost(Cost, initialtheta, X, y)"
   ]
  },
  {
   "cell_type": "code",
   "execution_count": 28,
   "id": "3eb0e17f",
   "metadata": {},
   "outputs": [
    {
     "data": {
      "text/plain": [
       "array([-25.16130062,   0.20623142,   0.20147143])"
      ]
     },
     "execution_count": 28,
     "metadata": {},
     "output_type": "execute_result"
    }
   ],
   "source": [
    "theta"
   ]
  },
  {
   "cell_type": "code",
   "execution_count": 29,
   "id": "bc26b9c1",
   "metadata": {},
   "outputs": [
    {
     "data": {
      "text/plain": [
       "array([0, 0, 0, 1, 1, 0, 1, 0, 1, 1, 1, 0, 1, 1, 0, 1, 0, 0, 1, 1, 0, 1,\n",
       "       0, 0, 1, 1, 1, 1, 0, 0, 1, 1, 0, 0, 0, 0, 1, 1, 0, 0, 1, 0, 1, 1,\n",
       "       0, 0, 1, 1, 1, 1, 1, 1, 1, 0, 0, 0, 1, 1, 1, 1, 1, 0, 0, 0, 0, 0,\n",
       "       1, 0, 1, 1, 0, 1, 1, 1, 1, 1, 1, 1, 0, 1, 1, 1, 1, 0, 1, 1, 0, 1,\n",
       "       1, 0, 1, 1, 0, 1, 1, 1, 1, 1, 0, 1])"
      ]
     },
     "execution_count": 29,
     "metadata": {},
     "output_type": "execute_result"
    }
   ],
   "source": [
    "ypredd = reg.predict(X, theta)\n",
    "ypredd"
   ]
  },
  {
   "cell_type": "code",
   "execution_count": 30,
   "id": "148d1483",
   "metadata": {},
   "outputs": [
    {
     "data": {
      "text/plain": [
       "0.89"
      ]
     },
     "execution_count": 30,
     "metadata": {},
     "output_type": "execute_result"
    }
   ],
   "source": [
    "reg.score(y, ypredd)"
   ]
  },
  {
   "cell_type": "code",
   "execution_count": 31,
   "id": "48beedf0",
   "metadata": {},
   "outputs": [],
   "source": [
    "#Using Sklearn libraries\n",
    "\n",
    "from sklearn.linear_model import LogisticRegression\n",
    "clf = LogisticRegression(random_state=0).fit(X, y)"
   ]
  },
  {
   "cell_type": "code",
   "execution_count": 32,
   "id": "1f7541de",
   "metadata": {},
   "outputs": [
    {
     "data": {
      "text/plain": [
       "0.89"
      ]
     },
     "execution_count": 32,
     "metadata": {},
     "output_type": "execute_result"
    }
   ],
   "source": [
    "clf.score(X, y)"
   ]
  },
  {
   "cell_type": "code",
   "execution_count": 33,
   "id": "c130c716",
   "metadata": {},
   "outputs": [],
   "source": [
    "#Plotting Decision boundaries\n",
    "\n",
    "from scipy.optimize import fmin"
   ]
  },
  {
   "cell_type": "code",
   "execution_count": 34,
   "id": "34768a17",
   "metadata": {},
   "outputs": [],
   "source": [
    "plot_x = np.array([dt[1].min(), dt[1].max()])\n",
    "plot_y = -(theta[0]+theta[1]*plot_x)/theta[2]"
   ]
  },
  {
   "cell_type": "code",
   "execution_count": 35,
   "id": "da2c7f59",
   "metadata": {},
   "outputs": [
    {
     "data": {
      "image/png": "[encoded data removed]",
      "text/plain": [
       "<Figure size 432x288 with 1 Axes>"
      ]
     },
     "metadata": {
      "needs_background": "light"
     },
     "output_type": "display_data"
    },
    {
     "name": "stdout",
     "output_type": "stream",
     "text": [
      "Admission Probability for score (55,85) =  0.9646510915124448\n"
     ]
    }
   ],
   "source": [
    "plt.plot(dt[0][dt[2] ==0],dt[1][dt[2] ==0],'kx',label = 'Not Admited')\n",
    "plt.plot(dt[0][dt[2] ==1],dt[1][dt[2] ==1],'yo',label = 'Admited')\n",
    "plt.plot(plot_x,plot_y,'r:',label = \"Decision Boundary\")\n",
    "plt.plot(55,85,'rx',ms =10)\n",
    "plt.annotate('(55,85)',xy = (55,85),xytext = (56,88))\n",
    "plt.legend()\n",
    "plt.show()\n",
    "\n",
    "probability = reg.sigmoid(np.dot([1,55,85],theta))\n",
    "print(\"Admission Probability for score (55,85) = \",probability)"
   ]
  }
 ],
 "metadata": {
  "kernelspec": {
   "display_name": "Python 3",
   "language": "python",
   "name": "python3"
  },
  "language_info": {
   "codemirror_mode": {
    "name": "ipython",
    "version": 3
   },
   "file_extension": ".py",
   "mimetype": "text/x-python",
   "name": "python",
   "nbconvert_exporter": "python",
   "pygments_lexer": "ipython3",
   "version": "3.8.8"
  }
 },
 "nbformat": 4,
 "nbformat_minor": 5
}
