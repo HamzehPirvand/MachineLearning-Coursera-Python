{
 "cells": [
  {
   "cell_type": "code",
   "execution_count": 1,
   "id": "bf020dc1",
   "metadata": {},
   "outputs": [],
   "source": [
    "import pandas as pd\n",
    "import matplotlib.pyplot as plt\n",
    "import numpy as np\n",
    "from Logistic_Regression_Regularization import *\n",
    "import warnings\n",
    "warnings.filterwarnings(\"ignore\")"
   ]
  },
  {
   "cell_type": "code",
   "execution_count": 4,
   "id": "31738c2f",
   "metadata": {},
   "outputs": [],
   "source": [
    "data = pd.read_csv('dataset/ex2data2.txt', header=None)"
   ]
  },
  {
   "cell_type": "code",
   "execution_count": 5,
   "id": "e26781d6",
   "metadata": {},
   "outputs": [
    {
     "data": {
      "text/html": [
       "<div>\n",
       "<style scoped>\n",
       "    .dataframe tbody tr th:only-of-type {\n",
       "        vertical-align: middle;\n",
       "    }\n",
       "\n",
       "    .dataframe tbody tr th {\n",
       "        vertical-align: top;\n",
       "    }\n",
       "\n",
       "    .dataframe thead th {\n",
       "        text-align: right;\n",
       "    }\n",
       "</style>\n",
       "<table border=\"1\" class=\"dataframe\">\n",
       "  <thead>\n",
       "    <tr style=\"text-align: right;\">\n",
       "      <th></th>\n",
       "      <th>0</th>\n",
       "      <th>1</th>\n",
       "      <th>2</th>\n",
       "    </tr>\n",
       "  </thead>\n",
       "  <tbody>\n",
       "    <tr>\n",
       "      <th>0</th>\n",
       "      <td>0.051267</td>\n",
       "      <td>0.69956</td>\n",
       "      <td>1</td>\n",
       "    </tr>\n",
       "    <tr>\n",
       "      <th>1</th>\n",
       "      <td>-0.092742</td>\n",
       "      <td>0.68494</td>\n",
       "      <td>1</td>\n",
       "    </tr>\n",
       "    <tr>\n",
       "      <th>2</th>\n",
       "      <td>-0.213710</td>\n",
       "      <td>0.69225</td>\n",
       "      <td>1</td>\n",
       "    </tr>\n",
       "    <tr>\n",
       "      <th>3</th>\n",
       "      <td>-0.375000</td>\n",
       "      <td>0.50219</td>\n",
       "      <td>1</td>\n",
       "    </tr>\n",
       "    <tr>\n",
       "      <th>4</th>\n",
       "      <td>-0.513250</td>\n",
       "      <td>0.46564</td>\n",
       "      <td>1</td>\n",
       "    </tr>\n",
       "  </tbody>\n",
       "</table>\n",
       "</div>"
      ],
      "text/plain": [
       "          0        1  2\n",
       "0  0.051267  0.69956  1\n",
       "1 -0.092742  0.68494  1\n",
       "2 -0.213710  0.69225  1\n",
       "3 -0.375000  0.50219  1\n",
       "4 -0.513250  0.46564  1"
      ]
     },
     "execution_count": 5,
     "metadata": {},
     "output_type": "execute_result"
    }
   ],
   "source": [
    "data.head()"
   ]
  },
  {
   "cell_type": "code",
   "execution_count": 6,
   "id": "d05b6acb",
   "metadata": {},
   "outputs": [
    {
     "data": {
      "image/png": "[encoded data removed]",
      "text/plain": [
       "<Figure size 432x288 with 1 Axes>"
      ]
     },
     "metadata": {
      "needs_background": "light"
     },
     "output_type": "display_data"
    }
   ],
   "source": [
    "#Data Visualization\n",
    "\n",
    "plt.plot(data[0][data[2] == 1], data[1][data[2] == 1], 'k+', label = 'Admit')\n",
    "plt.plot(data[0][data[2] == 0], data[1][data[2] == 0], 'yo', label = 'Not Admit')\n",
    "plt.legend()\n",
    "plt.show()"
   ]
  },
  {
   "cell_type": "code",
   "execution_count": 7,
   "id": "51370182",
   "metadata": {},
   "outputs": [],
   "source": [
    "#Polynomial Feature with 6 degree\n",
    "\n",
    "log_reg = logistic_regression_reg()\n",
    "X = data[[0, 1]]\n",
    "y = data[2].values\n",
    "X1 = log_reg.mapfeature(X, 6)"
   ]
  },
  {
   "cell_type": "code",
   "execution_count": 8,
   "id": "d7b8ec64",
   "metadata": {},
   "outputs": [
    {
     "data": {
      "text/plain": [
       "(118, 28)"
      ]
     },
     "execution_count": 8,
     "metadata": {},
     "output_type": "execute_result"
    }
   ],
   "source": [
    "X1.shape"
   ]
  },
  {
   "cell_type": "code",
   "execution_count": 9,
   "id": "b06c5eff",
   "metadata": {},
   "outputs": [],
   "source": [
    "initial_theta = np.zeros((X1.shape[1]))"
   ]
  },
  {
   "cell_type": "code",
   "execution_count": 10,
   "id": "5e5d0a67",
   "metadata": {},
   "outputs": [],
   "source": [
    "grad = log_reg.gradient(initial_theta, X1, y, 1)"
   ]
  },
  {
   "cell_type": "code",
   "execution_count": 11,
   "id": "e796b6d6",
   "metadata": {},
   "outputs": [
    {
     "data": {
      "text/plain": [
       "Ones    0.008475\n",
       "x10     0.018788\n",
       "x11     0.000078\n",
       "x20     0.050345\n",
       "x21     0.011501\n",
       "dtype: float64"
      ]
     },
     "execution_count": 11,
     "metadata": {},
     "output_type": "execute_result"
    }
   ],
   "source": [
    "grad[0:5]"
   ]
  },
  {
   "cell_type": "code",
   "execution_count": 12,
   "id": "b407d3a1",
   "metadata": {},
   "outputs": [],
   "source": [
    "grad = log_reg.gradient(initial_theta, X1, y, 10)"
   ]
  },
  {
   "cell_type": "code",
   "execution_count": 14,
   "id": "e731cd2d",
   "metadata": {},
   "outputs": [
    {
     "data": {
      "text/plain": [
       "Ones    0.008475\n",
       "x10     0.018788\n",
       "x11     0.000078\n",
       "x20     0.050345\n",
       "x21     0.011501\n",
       "dtype: float64"
      ]
     },
     "execution_count": 14,
     "metadata": {},
     "output_type": "execute_result"
    }
   ],
   "source": [
    "grad[0:5]"
   ]
  },
  {
   "cell_type": "code",
   "execution_count": 15,
   "id": "89e45cfc",
   "metadata": {},
   "outputs": [],
   "source": [
    "#Minimum Cost Optimization using Scipy\n",
    "\n",
    "minicost = log_reg.minimumcost(log_reg.costfunction, initial_theta, X1, y, 1)"
   ]
  },
  {
   "cell_type": "code",
   "execution_count": 16,
   "id": "a38ff5f7",
   "metadata": {},
   "outputs": [
    {
     "data": {
      "text/plain": [
       "array([ 1.27268722,  0.62557007,  1.18096633, -2.0191979 , -0.91761391,\n",
       "       -1.4319418 ,  0.12375915, -0.3651304 , -0.35703343, -0.1748581 ,\n",
       "       -1.45843768, -0.05129648, -0.61603938, -0.2746411 , -1.19282533,\n",
       "       -0.24270351, -0.20570016, -0.04499755, -0.27782691, -0.29525823,\n",
       "       -0.45613284, -1.04377849,  0.02762815, -0.29265599,  0.01543406,\n",
       "       -0.32759334, -0.14389182, -0.92460113])"
      ]
     },
     "execution_count": 16,
     "metadata": {},
     "output_type": "execute_result"
    }
   ],
   "source": [
    "minicost"
   ]
  },
  {
   "cell_type": "code",
   "execution_count": 21,
   "id": "c4d3659b",
   "metadata": {},
   "outputs": [],
   "source": [
    "ypred = log_reg.predict(X1, minicost)"
   ]
  },
  {
   "cell_type": "code",
   "execution_count": 22,
   "id": "b149befd",
   "metadata": {},
   "outputs": [
    {
     "data": {
      "text/plain": [
       "0.8305084745762712"
      ]
     },
     "execution_count": 22,
     "metadata": {},
     "output_type": "execute_result"
    }
   ],
   "source": [
    "log_reg.score(y, ypred)"
   ]
  },
  {
   "cell_type": "code",
   "execution_count": 23,
   "id": "f0855ebc",
   "metadata": {},
   "outputs": [
    {
     "data": {
      "text/plain": [
       "0.8305084745762712"
      ]
     },
     "execution_count": 23,
     "metadata": {},
     "output_type": "execute_result"
    }
   ],
   "source": [
    "#Verifying using Sklearn Model\n",
    "\n",
    "from sklearn.linear_model import LogisticRegression\n",
    "\n",
    "linrig = LogisticRegression(C = 1).fit(X1, y)\n",
    "linrig.score(X1, y)"
   ]
  },
  {
   "cell_type": "code",
   "execution_count": 24,
   "id": "00c4099d",
   "metadata": {},
   "outputs": [],
   "source": [
    "#Visualization\n",
    "\n",
    "def plotdata(lambda_coff):\n",
    "    initita_theta = np.ones(X1.shape[1])\n",
    "    minicost = log_reg.minimumcost(log_reg.costfunction, initial_theta, X1, y, lambda_coff)\n",
    "    xs = np.linspace(-1, 1.5, 50)\n",
    "    ys = np.linspace(-1, 1.5, 50)\n",
    "    xx, yy = np.meshgrid(xs, ys)\n",
    "    xsdata = pd.DataFrame({0:xx.ravel(), 1:yy.ravel()})\n",
    "    Xdata = log_reg.mapfeature(xsdata, 6)\n",
    "    initita_theta = np.zeros(X1.shape[1])\n",
    "    htheta = log_reg.hypothesis(Xdata, minicost)\n",
    "    htheta = htheta.reshape(50, 50)\n",
    "    plt.plot(data[0][data[2] == 1], data[1][data[2] == 1], 'k+', label = 'Admit')\n",
    "    plt.plot(data[0][data[2] == 0], data[1][data[2] == 0], 'yo', label = 'Not Admited')\n",
    "    plt.contour(xx, yy, htheta, [0.5])\n",
    "    plt.show()\n",
    "    return minicost"
   ]
  },
  {
   "cell_type": "code",
   "execution_count": 26,
   "id": "34128070",
   "metadata": {},
   "outputs": [
    {
     "data": {
      "image/png": "[encoded data removed]",
      "text/plain": [
       "<Figure size 432x288 with 1 Axes>"
      ]
     },
     "metadata": {
      "needs_background": "light"
     },
     "output_type": "display_data"
    },
    {
     "name": "stdout",
     "output_type": "stream",
     "text": [
      "Accuracy 0.8813559322033898\n"
     ]
    }
   ],
   "source": [
    "#Overfitting (No regularization (Lambda = 0))\n",
    "\n",
    "minicost = plotdata(0)\n",
    "ypred = log_reg.predict(X1, minicost)\n",
    "print('Accuracy', log_reg.score(y, ypred))"
   ]
  },
  {
   "cell_type": "code",
   "execution_count": 27,
   "id": "89cb76ca",
   "metadata": {},
   "outputs": [
    {
     "data": {
      "image/png": "[encoded data removed]",
      "text/plain": [
       "<Figure size 432x288 with 1 Axes>"
      ]
     },
     "metadata": {
      "needs_background": "light"
     },
     "output_type": "display_data"
    },
    {
     "name": "stdout",
     "output_type": "stream",
     "text": [
      "Accuracy 0.8305084745762712\n"
     ]
    }
   ],
   "source": [
    "#Regularization\n",
    "\n",
    "minicost = plotdata(1)\n",
    "ypred = log_reg.predict(X1, minicost)\n",
    "print('Accuracy', log_reg.score(y, ypred))"
   ]
  },
  {
   "cell_type": "code",
   "execution_count": 28,
   "id": "abc60235",
   "metadata": {},
   "outputs": [
    {
     "data": {
      "image/png": "[encoded data removed]",
      "text/plain": [
       "<Figure size 432x288 with 1 Axes>"
      ]
     },
     "metadata": {
      "needs_background": "light"
     },
     "output_type": "display_data"
    },
    {
     "name": "stdout",
     "output_type": "stream",
     "text": [
      "Accuracy 0.6101694915254238\n"
     ]
    }
   ],
   "source": [
    "#Underfitting ( lambda = 100)\n",
    "\n",
    "minicost = plotdata(100)\n",
    "ypred = log_reg.predict(X1, minicost)\n",
    "print('Accuracy', log_reg.score(y, ypred))"
   ]
  }
 ],
 "metadata": {
  "kernelspec": {
   "display_name": "Python 3",
   "language": "python",
   "name": "python3"
  },
  "language_info": {
   "codemirror_mode": {
    "name": "ipython",
    "version": 3
   },
   "file_extension": ".py",
   "mimetype": "text/x-python",
   "name": "python",
   "nbconvert_exporter": "python",
   "pygments_lexer": "ipython3",
   "version": "3.8.8"
  }
 },
 "nbformat": 4,
 "nbformat_minor": 5
}
