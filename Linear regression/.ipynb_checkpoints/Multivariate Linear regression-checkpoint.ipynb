{
 "cells": [
  {
   "cell_type": "code",
   "execution_count": 1,
   "id": "46fa2e55",
   "metadata": {},
   "outputs": [],
   "source": [
    "import pandas as pd\n",
    "import numpy as np\n",
    "import matplotlib.pyplot as plt\n",
    "np.set_printoptions(suppress=True)"
   ]
  },
  {
   "cell_type": "code",
   "execution_count": 3,
   "id": "778f063a",
   "metadata": {},
   "outputs": [],
   "source": [
    "ex1data2 = pd.read_csv('dataset/ex1data2.txt', header=None)"
   ]
  },
  {
   "cell_type": "code",
   "execution_count": 4,
   "id": "bbad5166",
   "metadata": {},
   "outputs": [
    {
     "data": {
      "text/html": [
       "<div>\n",
       "<style scoped>\n",
       "    .dataframe tbody tr th:only-of-type {\n",
       "        vertical-align: middle;\n",
       "    }\n",
       "\n",
       "    .dataframe tbody tr th {\n",
       "        vertical-align: top;\n",
       "    }\n",
       "\n",
       "    .dataframe thead th {\n",
       "        text-align: right;\n",
       "    }\n",
       "</style>\n",
       "<table border=\"1\" class=\"dataframe\">\n",
       "  <thead>\n",
       "    <tr style=\"text-align: right;\">\n",
       "      <th></th>\n",
       "      <th>0</th>\n",
       "      <th>1</th>\n",
       "      <th>2</th>\n",
       "    </tr>\n",
       "  </thead>\n",
       "  <tbody>\n",
       "    <tr>\n",
       "      <th>0</th>\n",
       "      <td>2104</td>\n",
       "      <td>3</td>\n",
       "      <td>399900</td>\n",
       "    </tr>\n",
       "    <tr>\n",
       "      <th>1</th>\n",
       "      <td>1600</td>\n",
       "      <td>3</td>\n",
       "      <td>329900</td>\n",
       "    </tr>\n",
       "    <tr>\n",
       "      <th>2</th>\n",
       "      <td>2400</td>\n",
       "      <td>3</td>\n",
       "      <td>369000</td>\n",
       "    </tr>\n",
       "    <tr>\n",
       "      <th>3</th>\n",
       "      <td>1416</td>\n",
       "      <td>2</td>\n",
       "      <td>232000</td>\n",
       "    </tr>\n",
       "    <tr>\n",
       "      <th>4</th>\n",
       "      <td>3000</td>\n",
       "      <td>4</td>\n",
       "      <td>539900</td>\n",
       "    </tr>\n",
       "  </tbody>\n",
       "</table>\n",
       "</div>"
      ],
      "text/plain": [
       "      0  1       2\n",
       "0  2104  3  399900\n",
       "1  1600  3  329900\n",
       "2  2400  3  369000\n",
       "3  1416  2  232000\n",
       "4  3000  4  539900"
      ]
     },
     "execution_count": 4,
     "metadata": {},
     "output_type": "execute_result"
    }
   ],
   "source": [
    "ex1data2.head()"
   ]
  },
  {
   "cell_type": "code",
   "execution_count": 5,
   "id": "2ab2679a",
   "metadata": {},
   "outputs": [],
   "source": [
    "X = ex1data2[[0,1]].values\n",
    "y = ex1data2[[2]].values"
   ]
  },
  {
   "cell_type": "code",
   "execution_count": 6,
   "id": "ae849def",
   "metadata": {},
   "outputs": [],
   "source": [
    "def feature_normalization(X):\n",
    "    mu = np.mean(X, axis=0)\n",
    "    std = np.std(X, axis=0)\n",
    "    Z = (X-mu)/std\n",
    "    return Z"
   ]
  },
  {
   "cell_type": "code",
   "execution_count": 7,
   "id": "7a822c51",
   "metadata": {},
   "outputs": [],
   "source": [
    "X_norm = feature_normalization(X)"
   ]
  },
  {
   "cell_type": "code",
   "execution_count": 8,
   "id": "09a0e243",
   "metadata": {},
   "outputs": [],
   "source": [
    "X0 = np.ones((len(X),1))"
   ]
  },
  {
   "cell_type": "code",
   "execution_count": 9,
   "id": "c188a2a8",
   "metadata": {},
   "outputs": [],
   "source": [
    "X = np.append(X0, X_norm, axis = 1)"
   ]
  },
  {
   "cell_type": "code",
   "execution_count": 10,
   "id": "55261e14",
   "metadata": {},
   "outputs": [
    {
     "data": {
      "text/plain": [
       "array([0., 0., 0.])"
      ]
     },
     "execution_count": 10,
     "metadata": {},
     "output_type": "execute_result"
    }
   ],
   "source": [
    "theta = np.zeros((X.shape[1]))\n",
    "theta"
   ]
  },
  {
   "cell_type": "code",
   "execution_count": 11,
   "id": "0c125e6b",
   "metadata": {},
   "outputs": [],
   "source": [
    "def hypothesis(X, theta):\n",
    "    htheta = np.dot(X, theta.T)\n",
    "    return htheta"
   ]
  },
  {
   "cell_type": "code",
   "execution_count": 12,
   "id": "9a533d40",
   "metadata": {},
   "outputs": [
    {
     "data": {
      "text/plain": [
       "array([  0.58455074,  -0.6975615 ,   1.33753729,  -5.15052982,\n",
       "         6.84875699,   4.2667254 ,  -0.86545715,  -1.13765161,\n",
       "        -1.25721367,  -0.96721209,   4.15225109,   0.3199879 ,\n",
       "         0.04016181,  14.59349761,  -1.5421275 ,   5.06804555,\n",
       "        -5.39474168,  -1.62353145,   5.85410246,   6.92761707,\n",
       "        -0.27273462,  -3.94982154,  -0.687386  ,   4.20821631,\n",
       "         5.1279088 ,  -1.96949824,  -1.05879153,   1.65806535,\n",
       "         0.8287626 ,   1.94043531,  -4.07447134, -10.1936768 ,\n",
       "         4.40663844,   3.21237206,   3.82409141,  -1.11221288,\n",
       "        -1.61589983,   4.6406748 ,   9.93956328,   4.71699101,\n",
       "        -4.5196492 ,   0.92542979,   5.74725977,  -1.71511089,\n",
       "        -6.58527447,   3.92839023,  -1.70747927])"
      ]
     },
     "execution_count": 12,
     "metadata": {},
     "output_type": "execute_result"
    }
   ],
   "source": [
    "theta = np.array([1,2,3])\n",
    "htheta = hypothesis(X,theta)\n",
    "htheta"
   ]
  },
  {
   "cell_type": "code",
   "execution_count": 13,
   "id": "7c4c502e",
   "metadata": {},
   "outputs": [],
   "source": [
    "def costfunction(X,y,theta):\n",
    "    m = len(X)\n",
    "    htheta = hypothesis(X, theta)\n",
    "    jtheta = (htheta-y.T)**2\n",
    "    jthetasum = jtheta.sum()/m\n",
    "    \n",
    "    return jthetasum"
   ]
  },
  {
   "cell_type": "code",
   "execution_count": 14,
   "id": "a9ed70b2",
   "metadata": {},
   "outputs": [],
   "source": [
    "jtheta = costfunction(X,y,theta)"
   ]
  },
  {
   "cell_type": "code",
   "execution_count": 15,
   "id": "2fdda74e",
   "metadata": {},
   "outputs": [],
   "source": [
    "def gradientDescent(X,y,theta,alpha,num_iters):\n",
    "    m = len(y)\n",
    "    theta = np.zeros((X.shape[1]))\n",
    "    error = []\n",
    "    for i in range(num_iters):\n",
    "        jtheta = costfunction(X,y,theta)\n",
    "        error.append(jtheta)\n",
    "        htheta = hypothesis(X,theta)\n",
    "        delta = (np.dot((htheta-y.T),X))\n",
    "        deltasum = (np.sum(delta,axis=0)/m)*alpha\n",
    "        theta = theta - deltasum\n",
    "    return theta, error"
   ]
  },
  {
   "cell_type": "code",
   "execution_count": 16,
   "id": "8151aac4",
   "metadata": {},
   "outputs": [],
   "source": [
    "iteration = 1000\n",
    "alpha = 0.1\n",
    "theta, error = gradientDescent(X, y, theta, alpha, iteration)"
   ]
  },
  {
   "cell_type": "code",
   "execution_count": 17,
   "id": "80ffbae7",
   "metadata": {},
   "outputs": [
    {
     "data": {
      "text/plain": [
       "array([340412.65957447, 109447.79646964,  -6578.35485416])"
      ]
     },
     "execution_count": 17,
     "metadata": {},
     "output_type": "execute_result"
    }
   ],
   "source": [
    "theta"
   ]
  },
  {
   "cell_type": "code",
   "execution_count": 18,
   "id": "085fc365",
   "metadata": {},
   "outputs": [
    {
     "data": {
      "text/plain": [
       "array([356283.1103389 , 286120.93063401, 397489.46984811, 269244.1857271 ,\n",
       "       472277.85514636, 330979.02101847, 276933.02614885, 262037.48402897,\n",
       "       255494.58235014, 271364.59918815, 324714.54068768, 341805.20024106,\n",
       "       326492.02609913, 669293.21223209, 239902.98686016, 374830.38333402,\n",
       "       255879.96102141, 235448.2452916 , 417846.48160547, 476593.38604091,\n",
       "       309369.11319496, 334951.62386342, 286677.77333009, 327777.17551607,\n",
       "       604913.37413438, 216515.5936252 , 266353.01492351, 415030.01477434,\n",
       "       369647.33504459, 430482.39959029, 328130.30083655, 220070.56444809,\n",
       "       338635.60808944, 500087.7365991 , 306756.36373941, 263429.59076914,\n",
       "       235865.87731365, 351442.99009906, 641418.82407778, 355619.31031959,\n",
       "       303768.43288347, 374937.34065726, 411999.63329673, 230436.66102696,\n",
       "       190729.36558116, 312464.00137413, 230854.29304902])"
      ]
     },
     "execution_count": 18,
     "metadata": {},
     "output_type": "execute_result"
    }
   ],
   "source": [
    "ypred = hypothesis(X, theta)\n",
    "ypred"
   ]
  },
  {
   "cell_type": "code",
   "execution_count": 19,
   "id": "94969cc5",
   "metadata": {},
   "outputs": [
    {
     "data": {
      "text/plain": [
       "[<matplotlib.lines.Line2D at 0x1cc5b6e16a0>]"
      ]
     },
     "execution_count": 19,
     "metadata": {},
     "output_type": "execute_result"
    },
    {
     "data": {
      "image/png": "[encoded data removed]",
      "text/plain": [
       "<Figure size 432x288 with 1 Axes>"
      ]
     },
     "metadata": {
      "needs_background": "light"
     },
     "output_type": "display_data"
    }
   ],
   "source": [
    "plt.plot(error)"
   ]
  },
  {
   "cell_type": "code",
   "execution_count": 20,
   "id": "ad67defa",
   "metadata": {},
   "outputs": [],
   "source": [
    "def r2_score(y, ypred):\n",
    "    ymean = np.mean(y)\n",
    "    num = np.sum((y.T - ypred)**2)\n",
    "    den = np.sum((y.T - ymean)**2)\n",
    "    output = 1-num/den\n",
    "    \n",
    "    return output"
   ]
  },
  {
   "cell_type": "code",
   "execution_count": 21,
   "id": "9a3f51fc",
   "metadata": {},
   "outputs": [
    {
     "data": {
      "text/plain": [
       "0.7329450180289142"
      ]
     },
     "execution_count": 21,
     "metadata": {},
     "output_type": "execute_result"
    }
   ],
   "source": [
    "r2_score(y, ypred)"
   ]
  },
  {
   "cell_type": "code",
   "execution_count": 22,
   "id": "c1af3a0b",
   "metadata": {},
   "outputs": [],
   "source": [
    "from sklearn import linear_model"
   ]
  },
  {
   "cell_type": "code",
   "execution_count": 23,
   "id": "42f5827c",
   "metadata": {},
   "outputs": [],
   "source": [
    "reg = linear_model.LinearRegression()"
   ]
  },
  {
   "cell_type": "code",
   "execution_count": 24,
   "id": "0c6e17ac",
   "metadata": {},
   "outputs": [
    {
     "data": {
      "text/plain": [
       "LinearRegression()"
      ]
     },
     "execution_count": 24,
     "metadata": {},
     "output_type": "execute_result"
    }
   ],
   "source": [
    "reg.fit(X, y)"
   ]
  },
  {
   "cell_type": "code",
   "execution_count": 25,
   "id": "0c0e659f",
   "metadata": {},
   "outputs": [],
   "source": [
    "y_pred = reg.predict(X)"
   ]
  },
  {
   "cell_type": "code",
   "execution_count": 26,
   "id": "cd257cb4",
   "metadata": {},
   "outputs": [
    {
     "data": {
      "text/plain": [
       "0.7329450180289143"
      ]
     },
     "execution_count": 26,
     "metadata": {},
     "output_type": "execute_result"
    }
   ],
   "source": [
    "reg.score(X, y)"
   ]
  }
 ],
 "metadata": {
  "kernelspec": {
   "display_name": "Python 3",
   "language": "python",
   "name": "python3"
  },
  "language_info": {
   "codemirror_mode": {
    "name": "ipython",
    "version": 3
   },
   "file_extension": ".py",
   "mimetype": "text/x-python",
   "name": "python",
   "nbconvert_exporter": "python",
   "pygments_lexer": "ipython3",
   "version": "3.8.8"
  }
 },
 "nbformat": 4,
 "nbformat_minor": 5
}
