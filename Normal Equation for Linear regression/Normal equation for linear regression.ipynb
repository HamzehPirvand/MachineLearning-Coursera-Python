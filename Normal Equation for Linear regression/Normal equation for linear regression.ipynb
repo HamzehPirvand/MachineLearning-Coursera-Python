{
 "cells": [
  {
   "cell_type": "code",
   "execution_count": 1,
   "id": "80371bc2",
   "metadata": {},
   "outputs": [],
   "source": [
    "#Derivation and Implementation of Normal equation for linear regression"
   ]
  },
  {
   "cell_type": "code",
   "execution_count": 2,
   "id": "c85b6d8d",
   "metadata": {},
   "outputs": [],
   "source": [
    "import pandas as pd\n",
    "import numpy as np\n",
    "import matplotlib.pyplot as plt\n",
    "np.set_printoptions(suppress=True)"
   ]
  },
  {
   "cell_type": "code",
   "execution_count": 4,
   "id": "3afbddc8",
   "metadata": {},
   "outputs": [],
   "source": [
    "ex1data2 = pd.read_csv('dataset/ex1data2.txt',header = None)"
   ]
  },
  {
   "cell_type": "code",
   "execution_count": 5,
   "id": "3c043592",
   "metadata": {},
   "outputs": [],
   "source": [
    "X = ex1data2[[0,1]].values\n",
    "y = ex1data2[[2]].values"
   ]
  },
  {
   "cell_type": "code",
   "execution_count": 6,
   "id": "ba631a74",
   "metadata": {},
   "outputs": [],
   "source": [
    "X0 = np.ones((len(X), 1))"
   ]
  },
  {
   "cell_type": "code",
   "execution_count": 7,
   "id": "1f96a2fe",
   "metadata": {},
   "outputs": [],
   "source": [
    "X = np.append(X0, X, axis=1)"
   ]
  },
  {
   "cell_type": "code",
   "execution_count": 8,
   "id": "8601534b",
   "metadata": {},
   "outputs": [
    {
     "data": {
      "text/plain": [
       "array([[-3.,  2.],\n",
       "       [ 2., -1.]])"
      ]
     },
     "execution_count": 8,
     "metadata": {},
     "output_type": "execute_result"
    }
   ],
   "source": [
    "#Inverse a matrix\n",
    "\n",
    "import numpy as np\n",
    "A = np.array([[1,2],[2,3]])\n",
    "\n",
    "np.linalg.inv(A)"
   ]
  },
  {
   "cell_type": "code",
   "execution_count": 9,
   "id": "2b88f6ed",
   "metadata": {},
   "outputs": [
    {
     "data": {
      "text/plain": [
       "array([[89597.9095428 ],\n",
       "       [  139.21067402],\n",
       "       [-8738.01911233]])"
      ]
     },
     "execution_count": 9,
     "metadata": {},
     "output_type": "execute_result"
    }
   ],
   "source": [
    "inv = np.linalg.inv(X.T@X)\n",
    "Multi = X.T@y\n",
    "theta = inv@Multi\n",
    "theta"
   ]
  },
  {
   "cell_type": "code",
   "execution_count": 10,
   "id": "adb401fe",
   "metadata": {},
   "outputs": [],
   "source": [
    "def hypothesis(X, theta):\n",
    "    htheta = np.dot(X, theta)\n",
    "    return htheta"
   ]
  },
  {
   "cell_type": "code",
   "execution_count": 11,
   "id": "e288ff61",
   "metadata": {},
   "outputs": [],
   "source": [
    "ypred = hypothesis(X, theta)"
   ]
  },
  {
   "cell_type": "code",
   "execution_count": 12,
   "id": "b47f3a41",
   "metadata": {},
   "outputs": [],
   "source": [
    "def r2_score(y, ypred):\n",
    "    ymean = np.mean(y)\n",
    "    num = np.sum((y-ypred)**2)\n",
    "    den = np.sum((y-ymean)**2)\n",
    "    output = 1-num*den\n",
    "    \n",
    "    return output"
   ]
  },
  {
   "cell_type": "code",
   "execution_count": 14,
   "id": "835d1358",
   "metadata": {},
   "outputs": [
    {
     "data": {
      "text/plain": [
       "-1.3813725212146087e+23"
      ]
     },
     "execution_count": 14,
     "metadata": {},
     "output_type": "execute_result"
    }
   ],
   "source": [
    "r2_score(y, ypred)"
   ]
  },
  {
   "cell_type": "code",
   "execution_count": 15,
   "id": "0f82edda",
   "metadata": {},
   "outputs": [],
   "source": [
    "#Verification using linear regression of sklearn\n",
    "\n",
    "from sklearn import datasets, linear_model"
   ]
  },
  {
   "cell_type": "code",
   "execution_count": 16,
   "id": "555ef357",
   "metadata": {},
   "outputs": [],
   "source": [
    "# Create linear regression object\n",
    "\n",
    "regr = linear_model.LinearRegression()\n",
    "\n",
    "# Train the model using the training sets\n",
    "regr.fit(X, y)\n",
    "# Make predictions using the testing set\n",
    "y_pred = regr.predict(X)"
   ]
  },
  {
   "cell_type": "code",
   "execution_count": 18,
   "id": "14bc6294",
   "metadata": {},
   "outputs": [
    {
     "data": {
      "text/plain": [
       "0.7329450180289142"
      ]
     },
     "execution_count": 18,
     "metadata": {},
     "output_type": "execute_result"
    }
   ],
   "source": [
    "regr.score(X, y)"
   ]
  },
  {
   "cell_type": "code",
   "execution_count": null,
   "id": "2c3fec1e",
   "metadata": {},
   "outputs": [],
   "source": [
    "#Which one should we choose Gradient Descent or Normal equations?\n",
    "#Gradient Descent\n",
    "#We need to choose alpha.\n",
    "#Works well when number of feature is very large.\n",
    "#Need many iterations\n",
    "#Normal equations\n",
    "#If n is very large, the computing (X^T X)^(-1) will be extremely expensive."
   ]
  }
 ],
 "metadata": {
  "kernelspec": {
   "display_name": "Python 3",
   "language": "python",
   "name": "python3"
  },
  "language_info": {
   "codemirror_mode": {
    "name": "ipython",
    "version": 3
   },
   "file_extension": ".py",
   "mimetype": "text/x-python",
   "name": "python",
   "nbconvert_exporter": "python",
   "pygments_lexer": "ipython3",
   "version": "3.8.8"
  }
 },
 "nbformat": 4,
 "nbformat_minor": 5
}
