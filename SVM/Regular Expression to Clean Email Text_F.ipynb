{
 "cells": [
  {
   "cell_type": "code",
   "execution_count": 1,
   "id": "1e5c98cd",
   "metadata": {},
   "outputs": [],
   "source": [
    "#Detail explanation of Regular expression to clean email text"
   ]
  },
  {
   "cell_type": "code",
   "execution_count": 3,
   "id": "be8e404d",
   "metadata": {},
   "outputs": [],
   "source": [
    "import re\n",
    "\n",
    "file_contents = open(\"dataset/emailSample1.txt\", \"r\").read()"
   ]
  },
  {
   "cell_type": "code",
   "execution_count": 4,
   "id": "85610c70",
   "metadata": {},
   "outputs": [
    {
     "data": {
      "text/plain": [
       "\"> Anyone knows how much it costs to host a web portal ?\\n>\\nWell, it depends on how many visitors you're expecting.\\nThis can be anywhere from less than 10 bucks a month to a couple of $100. \\nYou should checkout http://www.rackspace.com/ or perhaps Amazon EC2 \\nif youre running something big..\\n\\nTo unsubscribe yourself from this mailing list, send an email to:\\ngroupname-unsubscribe@egroups.com\\n\\n\""
      ]
     },
     "execution_count": 4,
     "metadata": {},
     "output_type": "execute_result"
    }
   ],
   "source": [
    "file_contents"
   ]
  },
  {
   "cell_type": "code",
   "execution_count": 5,
   "id": "3a1c29ef",
   "metadata": {},
   "outputs": [
    {
     "data": {
      "text/plain": [
       "\"> anyone knows how much it costs to host a web portal ?\\n>\\nwell, it depends on how many visitors you're expecting.\\nthis can be anywhere from less than 10 bucks a month to a couple of $100. \\nyou should checkout http://www.rackspace.com/ or perhaps amazon ec2 \\nif youre running something big..\\n\\nto unsubscribe yourself from this mailing list, send an email to:\\ngroupname-unsubscribe@egroups.com\\n\\n\""
      ]
     },
     "execution_count": 5,
     "metadata": {},
     "output_type": "execute_result"
    }
   ],
   "source": [
    "file_contents = file_contents.lower()\n",
    "file_contents"
   ]
  },
  {
   "cell_type": "code",
   "execution_count": 6,
   "id": "4d9cda07",
   "metadata": {},
   "outputs": [
    {
     "data": {
      "text/plain": [
       "['10', '100', '2']"
      ]
     },
     "execution_count": 6,
     "metadata": {},
     "output_type": "execute_result"
    }
   ],
   "source": [
    "re.findall('[\\d]+', file_contents)"
   ]
  },
  {
   "cell_type": "code",
   "execution_count": 7,
   "id": "e58c79cc",
   "metadata": {},
   "outputs": [
    {
     "data": {
      "text/plain": [
       "\"> anyone knows how much it costs to host a web portal ?\\n>\\nwell, it depends on how many visitors you're expecting.\\nthis can be anywhere from less than number bucks a month to a couple of $number. \\nyou should checkout http://www.rackspace.com/ or perhaps amazon ecnumber \\nif youre running something big..\\n\\nto unsubscribe yourself from this mailing list, send an email to:\\ngroupname-unsubscribe@egroups.com\\n\\n\""
      ]
     },
     "execution_count": 7,
     "metadata": {},
     "output_type": "execute_result"
    }
   ],
   "source": [
    "file_contents = re.sub(\"[\\d]+\", \"number\", file_contents)\n",
    "file_contents"
   ]
  },
  {
   "cell_type": "code",
   "execution_count": 8,
   "id": "a75c219b",
   "metadata": {},
   "outputs": [],
   "source": [
    "#Heading URL\n",
    "\n",
    "dt = 'I refer to https://google.com and I never refer http://www.Amazoon.com if I have to search anything'"
   ]
  },
  {
   "cell_type": "code",
   "execution_count": 9,
   "id": "54642b53",
   "metadata": {},
   "outputs": [
    {
     "data": {
      "text/plain": [
       "['https://google.com', 'http://www.Amazoon.com']"
      ]
     },
     "execution_count": 9,
     "metadata": {},
     "output_type": "execute_result"
    }
   ],
   "source": [
    "re.findall(\"https?://[^\\s]+\",dt)"
   ]
  },
  {
   "cell_type": "code",
   "execution_count": 10,
   "id": "d7d099e1",
   "metadata": {},
   "outputs": [
    {
     "data": {
      "text/plain": [
       "['http://www.rackspace.com/']"
      ]
     },
     "execution_count": 10,
     "metadata": {},
     "output_type": "execute_result"
    }
   ],
   "source": [
    "re.findall('https?://[^\\s]+', file_contents)"
   ]
  },
  {
   "cell_type": "code",
   "execution_count": 11,
   "id": "cd0aea5e",
   "metadata": {},
   "outputs": [
    {
     "data": {
      "text/plain": [
       "\"> anyone knows how much it costs to host a web portal ?\\n>\\nwell, it depends on how many visitors you're expecting.\\nthis can be anywhere from less than number bucks a month to a couple of $number. \\nyou should checkout httpaddr or perhaps amazon ecnumber \\nif youre running something big..\\n\\nto unsubscribe yourself from this mailing list, send an email to:\\ngroupname-unsubscribe@egroups.com\\n\\n\""
      ]
     },
     "execution_count": 11,
     "metadata": {},
     "output_type": "execute_result"
    }
   ],
   "source": [
    "file_contents = re.sub('https?://[^\\s]+', 'httpaddr', file_contents)\n",
    "file_contents"
   ]
  },
  {
   "cell_type": "code",
   "execution_count": 12,
   "id": "b6990d39",
   "metadata": {},
   "outputs": [
    {
     "data": {
      "text/plain": [
       "['groupname-unsubscribe@egroups.com']"
      ]
     },
     "execution_count": 12,
     "metadata": {},
     "output_type": "execute_result"
    }
   ],
   "source": [
    "re.findall(\"[^\\s]+@[^\\s]+\", file_contents)"
   ]
  },
  {
   "cell_type": "code",
   "execution_count": 13,
   "id": "bfc2dfc3",
   "metadata": {},
   "outputs": [
    {
     "data": {
      "text/plain": [
       "\"> anyone knows how much it costs to host a web portal ?\\n>\\nwell, it depends on how many visitors you're expecting.\\nthis can be anywhere from less than number bucks a month to a couple of $number. \\nyou should checkout httpaddr or perhaps amazon ecnumber \\nif youre running something big..\\n\\nto unsubscribe yourself from this mailing list, send an email to:\\nemailaddr\\n\\n\""
      ]
     },
     "execution_count": 13,
     "metadata": {},
     "output_type": "execute_result"
    }
   ],
   "source": [
    "file_contents = re.sub(\"[^\\s]+@[^\\s]+\", \"emailaddr\", file_contents)\n",
    "file_contents"
   ]
  },
  {
   "cell_type": "code",
   "execution_count": null,
   "id": "fa409178",
   "metadata": {},
   "outputs": [],
   "source": [
    "#Handling all special characters\n",
    "#We will remove all special characters from the text"
   ]
  },
  {
   "cell_type": "code",
   "execution_count": 14,
   "id": "36cec196",
   "metadata": {},
   "outputs": [
    {
     "data": {
      "text/plain": [
       "['>', '?', '>', ',', \"'\", '.', '$', '.', '..', ',', ':']"
      ]
     },
     "execution_count": 14,
     "metadata": {},
     "output_type": "execute_result"
    }
   ],
   "source": [
    "re.findall('[^A-Za-z0-9\\s]+', file_contents)"
   ]
  },
  {
   "cell_type": "code",
   "execution_count": 15,
   "id": "067af3ff",
   "metadata": {},
   "outputs": [
    {
     "data": {
      "text/plain": [
       "\">?>,'.$...,:\""
      ]
     },
     "execution_count": 15,
     "metadata": {},
     "output_type": "execute_result"
    }
   ],
   "source": [
    "file_contents = re.sub(\"[A-Za-z0-9\\s]+\", \"\", file_contents)\n",
    "file_contents"
   ]
  },
  {
   "cell_type": "code",
   "execution_count": 16,
   "id": "f0e14f16",
   "metadata": {},
   "outputs": [
    {
     "data": {
      "text/plain": [
       "\">?>,'.$...,:\""
      ]
     },
     "execution_count": 16,
     "metadata": {},
     "output_type": "execute_result"
    }
   ],
   "source": [
    "#Remove \\n from the text\n",
    "\n",
    "re.findall(\"\\n{2,2}\", file_contents)\n",
    "file_contents = re.sub('\\n{2,2}', \"\", file_contents)\n",
    "file_contents"
   ]
  },
  {
   "cell_type": "code",
   "execution_count": 17,
   "id": "1907c5ab",
   "metadata": {},
   "outputs": [
    {
     "data": {
      "text/plain": [
       "\">?>,'.$...,:\""
      ]
     },
     "execution_count": 17,
     "metadata": {},
     "output_type": "execute_result"
    }
   ],
   "source": [
    "re.findall(\"\\s\\n\",file_contents)\n",
    "file_contents = re.sub(\"\\s\\n\",\" \",file_contents)\n",
    "file_contents"
   ]
  },
  {
   "cell_type": "code",
   "execution_count": 18,
   "id": "cd43258e",
   "metadata": {},
   "outputs": [
    {
     "data": {
      "text/plain": [
       "\">?>,'.$...,:\""
      ]
     },
     "execution_count": 18,
     "metadata": {},
     "output_type": "execute_result"
    }
   ],
   "source": [
    "file_contents = re.sub(\"\\n\",\" \",file_contents)\n",
    "file_contents"
   ]
  },
  {
   "cell_type": "code",
   "execution_count": 20,
   "id": "fc6d938a",
   "metadata": {},
   "outputs": [
    {
     "data": {
      "text/plain": [
       "[]"
      ]
     },
     "execution_count": 20,
     "metadata": {},
     "output_type": "execute_result"
    }
   ],
   "source": [
    "#Remove text starting with space\n",
    "\n",
    "re.findall(\"^\\s\", file_contents)"
   ]
  },
  {
   "cell_type": "code",
   "execution_count": 21,
   "id": "4d2c5205",
   "metadata": {},
   "outputs": [],
   "source": [
    "file_contents = re.sub(\"^\\s\",\"\",file_contents)"
   ]
  },
  {
   "cell_type": "code",
   "execution_count": 22,
   "id": "1289cddc",
   "metadata": {},
   "outputs": [
    {
     "data": {
      "text/plain": [
       "['B', 'C']"
      ]
     },
     "execution_count": 22,
     "metadata": {},
     "output_type": "execute_result"
    }
   ],
   "source": [
    "dt = 'ABC'\n",
    "\n",
    "re.findall(\"[^A]\", dt)  ## that does not contain A in the text (dt)"
   ]
  },
  {
   "cell_type": "code",
   "execution_count": 23,
   "id": "b7db0bee",
   "metadata": {},
   "outputs": [
    {
     "data": {
      "text/plain": [
       "['A']"
      ]
     },
     "execution_count": 23,
     "metadata": {},
     "output_type": "execute_result"
    }
   ],
   "source": [
    "re.findall(\"^A\", dt)  ## the text should start with A"
   ]
  },
  {
   "cell_type": "code",
   "execution_count": 24,
   "id": "20a853e0",
   "metadata": {},
   "outputs": [
    {
     "data": {
      "text/plain": [
       "\">?>,'.$...,:\""
      ]
     },
     "execution_count": 24,
     "metadata": {},
     "output_type": "execute_result"
    }
   ],
   "source": [
    "file_contents"
   ]
  }
 ],
 "metadata": {
  "kernelspec": {
   "display_name": "Python 3",
   "language": "python",
   "name": "python3"
  },
  "language_info": {
   "codemirror_mode": {
    "name": "ipython",
    "version": 3
   },
   "file_extension": ".py",
   "mimetype": "text/x-python",
   "name": "python",
   "nbconvert_exporter": "python",
   "pygments_lexer": "ipython3",
   "version": "3.8.8"
  }
 },
 "nbformat": 4,
 "nbformat_minor": 5
}
